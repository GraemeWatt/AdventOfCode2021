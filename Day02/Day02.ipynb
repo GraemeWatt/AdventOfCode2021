{
 "cells": [
  {
   "cell_type": "markdown",
   "id": "a17abdee",
   "metadata": {},
   "source": [
    "# Day 2: Dive!"
   ]
  },
  {
   "cell_type": "markdown",
   "id": "0d94908a",
   "metadata": {},
   "source": [
    "https://adventofcode.com/2021/day/2"
   ]
  },
  {
   "cell_type": "markdown",
   "id": "30c8224c",
   "metadata": {},
   "source": [
    "## Part 1"
   ]
  },
  {
   "cell_type": "code",
   "execution_count": 1,
   "id": "2b04a143",
   "metadata": {},
   "outputs": [],
   "source": [
    "class Position:\n",
    "    \"\"\"Class that gives the position of a submarine.\"\"\"\n",
    "    def __init__(self):\n",
    "        self.horizontal = 0\n",
    "        self.depth = 0\n",
    "    def __str__(self):\n",
    "        string = f'Horizontal: {self.horizontal}\\n'\n",
    "        string += f'Depth: {self.depth}\\n'\n",
    "        string += f'Multiply: {self.multiply()}'\n",
    "        return string\n",
    "    def move(self, direction, value):\n",
    "        if direction == 'forward':\n",
    "            self.horizontal += value\n",
    "        elif direction == 'up':\n",
    "            self.depth -= value\n",
    "            if self.depth < 0:\n",
    "                self.depth = 0  # submarines can't fly!\n",
    "        elif direction == 'down':\n",
    "            self.depth += value\n",
    "        else:\n",
    "            print(f'Invalid direction: {direction}')\n",
    "    def multiply(self):\n",
    "        return self.horizontal*self.depth"
   ]
  },
  {
   "cell_type": "markdown",
   "id": "fd24d2e2",
   "metadata": {},
   "source": [
    "Test the class with the example course."
   ]
  },
  {
   "cell_type": "code",
   "execution_count": 2,
   "id": "21433a1d",
   "metadata": {},
   "outputs": [
    {
     "name": "stdout",
     "output_type": "stream",
     "text": [
      "['forward 5', 'down 5', 'forward 8', 'up 3', 'down 8', 'forward 2']\n"
     ]
    }
   ],
   "source": [
    "example_course = \"\"\"forward 5\n",
    "down 5\n",
    "forward 8\n",
    "up 3\n",
    "down 8\n",
    "forward 2\"\"\"\n",
    "example_course = example_course.split('\\n')\n",
    "print(example_course)"
   ]
  },
  {
   "cell_type": "markdown",
   "id": "1086ef86",
   "metadata": {},
   "source": [
    "What do you get if you multiply your final horizontal position by your final depth?"
   ]
  },
  {
   "cell_type": "code",
   "execution_count": 3,
   "id": "4d4166da",
   "metadata": {},
   "outputs": [
    {
     "name": "stdout",
     "output_type": "stream",
     "text": [
      "Horizontal: 15\n",
      "Depth: 10\n",
      "Multiply: 150\n"
     ]
    }
   ],
   "source": [
    "example_position = Position()\n",
    "for step in example_course:\n",
    "    direction, value = step.split()\n",
    "    value = int(value)\n",
    "    example_position.move(direction, value)\n",
    "print(example_position)"
   ]
  },
  {
   "cell_type": "markdown",
   "id": "307fc210",
   "metadata": {},
   "source": [
    "Now repeat with the planned course from the input file."
   ]
  },
  {
   "cell_type": "code",
   "execution_count": 4,
   "id": "685ce993",
   "metadata": {},
   "outputs": [
    {
     "name": "stdout",
     "output_type": "stream",
     "text": [
      "Horizontal: 2091\n",
      "Depth: 721\n",
      "Multiply: 1507611\n"
     ]
    }
   ],
   "source": [
    "position = Position()\n",
    "with open('input.txt') as input_course:\n",
    "    for step in input_course:\n",
    "        direction, value = step.split()\n",
    "        value = int(value)\n",
    "        # print(f'Moving {direction} by {value}.')\n",
    "        position.move(direction, value)\n",
    "print(position)"
   ]
  },
  {
   "cell_type": "markdown",
   "id": "d7558574",
   "metadata": {},
   "source": [
    "## Part 2"
   ]
  },
  {
   "cell_type": "code",
   "execution_count": 5,
   "id": "385ff969",
   "metadata": {},
   "outputs": [],
   "source": [
    "class RevisedPosition(Position):\n",
    "    \"\"\"Revised class that inherits from the original Position class.\"\"\"\n",
    "    def __init__(self):\n",
    "        Position.__init__(self)\n",
    "        self.aim = 0\n",
    "    def __str__(self):\n",
    "        return f'Aim: {self.aim}\\n' + super().__str__()\n",
    "    def move(self, direction, value):\n",
    "        if direction == 'forward':\n",
    "            self.horizontal += value\n",
    "            self.depth += self.aim*value\n",
    "            if self.depth < 0:\n",
    "                self.depth = 0  # submarines can't fly!\n",
    "        elif direction == 'up':\n",
    "            self.aim -= value\n",
    "        elif direction == 'down':\n",
    "            self.aim += value\n",
    "        else:\n",
    "            print(f'Invalid direction: {direction}')"
   ]
  },
  {
   "cell_type": "markdown",
   "id": "defad973",
   "metadata": {},
   "source": [
    "Test the class with the example course."
   ]
  },
  {
   "cell_type": "code",
   "execution_count": 6,
   "id": "1fc3f263",
   "metadata": {},
   "outputs": [
    {
     "name": "stdout",
     "output_type": "stream",
     "text": [
      "Aim: 10\n",
      "Horizontal: 15\n",
      "Depth: 60\n",
      "Multiply: 900\n"
     ]
    }
   ],
   "source": [
    "revised_example_position = RevisedPosition()\n",
    "for step in example_course:\n",
    "    direction, value = step.split()\n",
    "    value = int(value)\n",
    "    revised_example_position.move(direction, value)\n",
    "print(revised_example_position)"
   ]
  },
  {
   "cell_type": "markdown",
   "id": "c6a48b11",
   "metadata": {},
   "source": [
    "Now repeat with the planned course from the input file."
   ]
  },
  {
   "cell_type": "code",
   "execution_count": 7,
   "id": "af2910ca",
   "metadata": {},
   "outputs": [
    {
     "name": "stdout",
     "output_type": "stream",
     "text": [
      "Aim: 721\n",
      "Horizontal: 2091\n",
      "Depth: 899375\n",
      "Multiply: 1880593125\n"
     ]
    }
   ],
   "source": [
    "revised_position = RevisedPosition()\n",
    "with open('input.txt') as input_course:\n",
    "    for step in input_course:\n",
    "        direction, value = step.split()\n",
    "        value = int(value)\n",
    "        # print(f'Moving {direction} by {value}.')\n",
    "        revised_position.move(direction, value)\n",
    "print(revised_position)"
   ]
  }
 ],
 "metadata": {
  "kernelspec": {
   "display_name": "Python 3",
   "language": "python",
   "name": "python3"
  },
  "language_info": {
   "codemirror_mode": {
    "name": "ipython",
    "version": 3
   },
   "file_extension": ".py",
   "mimetype": "text/x-python",
   "name": "python",
   "nbconvert_exporter": "python",
   "pygments_lexer": "ipython3",
   "version": "3.6.8"
  }
 },
 "nbformat": 4,
 "nbformat_minor": 5
}
