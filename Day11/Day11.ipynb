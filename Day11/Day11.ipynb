{
 "cells": [
  {
   "cell_type": "markdown",
   "id": "2d87fcfd",
   "metadata": {},
   "source": [
    "# Day 11: Dumbo Octopus"
   ]
  },
  {
   "cell_type": "markdown",
   "id": "8a6d721b",
   "metadata": {},
   "source": [
    "https://adventofcode.com/2021/day/11"
   ]
  },
  {
   "cell_type": "code",
   "execution_count": 1,
   "id": "e5e376c7",
   "metadata": {},
   "outputs": [],
   "source": [
    "import numpy as np"
   ]
  },
  {
   "cell_type": "code",
   "execution_count": 2,
   "id": "3be5bf05",
   "metadata": {},
   "outputs": [],
   "source": [
    "smaller_example_txt = \"\"\"11111\n",
    "19991\n",
    "19191\n",
    "19991\n",
    "11111\"\"\""
   ]
  },
  {
   "cell_type": "code",
   "execution_count": 3,
   "id": "af5858b6",
   "metadata": {},
   "outputs": [],
   "source": [
    "larger_example_txt = \"\"\"5483143223\n",
    "2745854711\n",
    "5264556173\n",
    "6141336146\n",
    "6357385478\n",
    "4167524645\n",
    "2176841721\n",
    "6882881134\n",
    "4846848554\n",
    "5283751526\"\"\""
   ]
  },
  {
   "cell_type": "code",
   "execution_count": 4,
   "id": "009e8857",
   "metadata": {},
   "outputs": [],
   "source": [
    "with open('input.txt') as input_file:\n",
    "    input_txt = input_file.read()"
   ]
  },
  {
   "cell_type": "code",
   "execution_count": 5,
   "id": "5e58c1ff",
   "metadata": {},
   "outputs": [],
   "source": [
    "def get_energy_levels(txt):\n",
    "    \"\"\"Manipulate input text into a two-dimensional NumPy array.\"\"\"\n",
    "    energy_levels = txt.strip().split('\\n')\n",
    "    energy_levels = [[int(e) for e in row] for row in energy_levels]\n",
    "    energy_levels = np.array(energy_levels)\n",
    "    return energy_levels"
   ]
  },
  {
   "cell_type": "code",
   "execution_count": 6,
   "id": "2210fda7",
   "metadata": {},
   "outputs": [],
   "source": [
    "def step(energies):\n",
    "    \"\"\"Take a single step and return the new energy levels and number of flashes.\"\"\"\n",
    "    # First, the energy level of each octopus increases by 1.\n",
    "    energies += 1\n",
    "    # Record positions of any octopus that flashes (energy level of 10).\n",
    "    flash_positions = [(i, j) for i in range(len(energies)) for j in range(len(energies[0])) if energies[i, j] == 10]\n",
    "    # Increase the energy levels of octupuses adjacent to the flash positions.\n",
    "    energies = increase_neighbours(energies, flash_positions)\n",
    "    # Count the number of flashed octupuses for this step.\n",
    "    flashes = len(energies[energies == 10])\n",
    "    # Reset the energy levels of flashed octupuses back to zero.\n",
    "    energies = np.where(energies == 10, 0, energies)\n",
    "    return energies, flashes"
   ]
  },
  {
   "cell_type": "code",
   "execution_count": 7,
   "id": "29be36d6",
   "metadata": {},
   "outputs": [],
   "source": [
    "def increase_neighbours(energies, positions):\n",
    "    \"\"\"Increase the energy levels of octupuses adjacent to the flash positions.\"\"\"\n",
    "    \n",
    "    new_flash_positions = []\n",
    "    for position in positions:\n",
    "        (iflash, jflash) = position\n",
    "        for istep in (-1, 0, +1):\n",
    "            i = iflash + istep\n",
    "            for jstep in (-1, 0, +1):\n",
    "                j = jflash + jstep\n",
    "                if i > -1 and i < len(energies) and j > -1 and j < len(energies[0]):\n",
    "                    # Increase energy level of octupuses that have not already flashed.\n",
    "                    if energies[i, j] < 10:\n",
    "                        energies[i, j] += 1\n",
    "                        # Check for a new flashed octupus after the increase in energy level.\n",
    "                        if energies[i, j] == 10:\n",
    "                            new_flash_positions.append((i, j))\n",
    "\n",
    "    # If there are new flash positions, call this function recursively.\n",
    "    if new_flash_positions:\n",
    "        energies = increase_neighbours(energies, new_flash_positions)\n",
    "\n",
    "    return energies"
   ]
  },
  {
   "cell_type": "markdown",
   "id": "b14dd124",
   "metadata": {},
   "source": [
    "## Part 1"
   ]
  },
  {
   "cell_type": "markdown",
   "id": "fd80ff66",
   "metadata": {},
   "source": [
    "How many total flashes are there after 100 steps?  (Results for smaller example, larger example, then input text.)"
   ]
  },
  {
   "cell_type": "code",
   "execution_count": 8,
   "id": "e4bc1155",
   "metadata": {},
   "outputs": [
    {
     "name": "stdout",
     "output_type": "stream",
     "text": [
      "After 100 steps, there have been a total of 259 flashes.\n",
      "After 100 steps, there have been a total of 1656 flashes.\n",
      "After 100 steps, there have been a total of 1713 flashes.\n"
     ]
    }
   ],
   "source": [
    "for txt in (smaller_example_txt, larger_example_txt, input_txt):\n",
    "    energy_levels = get_energy_levels(txt)\n",
    "    total_flashes = 0\n",
    "    for s in range(100):\n",
    "        energy_levels, flashes = step(energy_levels)\n",
    "        total_flashes += flashes\n",
    "    print(f'After {s+1} steps, there have been a total of {total_flashes} flashes.')"
   ]
  },
  {
   "cell_type": "markdown",
   "id": "64e75a22",
   "metadata": {},
   "source": [
    "## Part 2"
   ]
  },
  {
   "cell_type": "markdown",
   "id": "7372ac5b",
   "metadata": {},
   "source": [
    "What is the first step during which all octopuses flash?  (Results for smaller example, larger example, then input text.)"
   ]
  },
  {
   "cell_type": "code",
   "execution_count": 9,
   "id": "ed6d1751",
   "metadata": {
    "scrolled": true
   },
   "outputs": [
    {
     "name": "stdout",
     "output_type": "stream",
     "text": [
      "After 6 steps, all octopuses flash.\n",
      "After 195 steps, all octopuses flash.\n",
      "After 502 steps, all octopuses flash.\n"
     ]
    }
   ],
   "source": [
    "for txt in (smaller_example_txt, larger_example_txt, input_txt):\n",
    "    energy_levels = get_energy_levels(txt)\n",
    "    s = 0\n",
    "    while True:\n",
    "        energy_levels, flashes = step(energy_levels)\n",
    "        s += 1\n",
    "        if np.all(energy_levels == 0):\n",
    "            print(f'After {s} steps, all octopuses flash.')\n",
    "            break"
   ]
  }
 ],
 "metadata": {
  "kernelspec": {
   "display_name": "Python 3",
   "language": "python",
   "name": "python3"
  },
  "language_info": {
   "codemirror_mode": {
    "name": "ipython",
    "version": 3
   },
   "file_extension": ".py",
   "mimetype": "text/x-python",
   "name": "python",
   "nbconvert_exporter": "python",
   "pygments_lexer": "ipython3",
   "version": "3.6.8"
  }
 },
 "nbformat": 4,
 "nbformat_minor": 5
}
