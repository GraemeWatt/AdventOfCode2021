{
 "cells": [
  {
   "cell_type": "markdown",
   "id": "2ec1e359",
   "metadata": {},
   "source": [
    "# Day 12: Passage Pathing"
   ]
  },
  {
   "cell_type": "markdown",
   "id": "d7441ed3",
   "metadata": {},
   "source": [
    "https://adventofcode.com/2021/day/12"
   ]
  },
  {
   "cell_type": "code",
   "execution_count": 1,
   "id": "0d54c09d",
   "metadata": {},
   "outputs": [],
   "source": [
    "example1_txt = \"\"\"start-A\n",
    "start-b\n",
    "A-c\n",
    "A-b\n",
    "b-d\n",
    "A-end\n",
    "b-end\"\"\""
   ]
  },
  {
   "cell_type": "code",
   "execution_count": 2,
   "id": "8433d7b7",
   "metadata": {},
   "outputs": [],
   "source": [
    "example2_txt = \"\"\"dc-end\n",
    "HN-start\n",
    "start-kj\n",
    "dc-start\n",
    "dc-HN\n",
    "LN-dc\n",
    "HN-end\n",
    "kj-sa\n",
    "kj-HN\n",
    "kj-dc\"\"\""
   ]
  },
  {
   "cell_type": "code",
   "execution_count": 3,
   "id": "3da33ae0",
   "metadata": {},
   "outputs": [],
   "source": [
    "example3_txt = \"\"\"fs-end\n",
    "he-DX\n",
    "fs-he\n",
    "start-DX\n",
    "pj-DX\n",
    "end-zg\n",
    "zg-sl\n",
    "zg-pj\n",
    "pj-he\n",
    "RW-he\n",
    "fs-DX\n",
    "pj-RW\n",
    "zg-RW\n",
    "start-pj\n",
    "he-WI\n",
    "zg-he\n",
    "pj-fs\n",
    "start-RW\"\"\""
   ]
  },
  {
   "cell_type": "code",
   "execution_count": 4,
   "id": "d459d58b",
   "metadata": {},
   "outputs": [],
   "source": [
    "with open('input.txt') as input_file:\n",
    "    input_txt = input_file.read()"
   ]
  },
  {
   "cell_type": "markdown",
   "id": "b6e27948",
   "metadata": {},
   "source": [
    "Uncomment one of the lines below to use one of the example texts or the input text."
   ]
  },
  {
   "cell_type": "code",
   "execution_count": 5,
   "id": "78262e85",
   "metadata": {},
   "outputs": [],
   "source": [
    "#txt = example1_txt\n",
    "#txt = example2_txt\n",
    "#txt = example3_txt\n",
    "txt = input_txt"
   ]
  },
  {
   "cell_type": "markdown",
   "id": "8d8dd2db",
   "metadata": {},
   "source": [
    "Connected caves as a list of tuples and individual caves."
   ]
  },
  {
   "cell_type": "code",
   "execution_count": 6,
   "id": "25178521",
   "metadata": {},
   "outputs": [],
   "source": [
    "connections = [tuple(connection.split('-')) for connection in txt.split()]\n",
    "caves = set([cave for connection in connections for cave in connection])"
   ]
  },
  {
   "cell_type": "markdown",
   "id": "e0d65818",
   "metadata": {},
   "source": [
    "Map choices from each cave."
   ]
  },
  {
   "cell_type": "code",
   "execution_count": 7,
   "id": "060b0368",
   "metadata": {},
   "outputs": [],
   "source": [
    "choices = {}\n",
    "for cave in caves:\n",
    "    choices[cave] = []\n",
    "for c1, c2 in connections:\n",
    "    choices[c1].append(c2)\n",
    "    choices[c2].append(c1)"
   ]
  },
  {
   "cell_type": "code",
   "execution_count": 8,
   "id": "2a0dd145",
   "metadata": {},
   "outputs": [],
   "source": [
    "def is_small_cave(cave):\n",
    "    \"\"\"Small caves given by lower-case letters.\"\"\"\n",
    "    return cave == cave.lower() and cave not in ('start', 'end')"
   ]
  },
  {
   "cell_type": "code",
   "execution_count": 9,
   "id": "0e68b817",
   "metadata": {},
   "outputs": [],
   "source": [
    "def is_valid(path, maximum):\n",
    "    \"\"\"Decide if a chosen path is valid.\"\"\"\n",
    "    valid = False\n",
    "    small_cave_counts = [path.count(cave) for cave in caves if is_small_cave(cave)]\n",
    "    if path.count('start') == 1 and all(cave <= maximum for cave in small_cave_counts):\n",
    "        if maximum == 1 or small_cave_counts.count(maximum) <= 1:\n",
    "            valid = True\n",
    "    return valid"
   ]
  },
  {
   "cell_type": "code",
   "execution_count": 10,
   "id": "14ac0258",
   "metadata": {},
   "outputs": [],
   "source": [
    "def explore(maximum):\n",
    "    \"\"\"Explore the cave system and return the number of valid paths.\"\"\"\n",
    "    valid_paths = []\n",
    "    visited = [['start']]\n",
    "    while len(visited):\n",
    "        path = visited.pop()\n",
    "        last_cave = path[-1]\n",
    "        if last_cave == 'end':\n",
    "            valid_paths.append(path)\n",
    "        else:\n",
    "            options = [path + [next_cave] for next_cave in choices[last_cave]]\n",
    "            visited.extend(filter(lambda p : is_valid(p, maximum), options))\n",
    "    return len(valid_paths)"
   ]
  },
  {
   "cell_type": "markdown",
   "id": "2f85bca1",
   "metadata": {},
   "source": [
    "## Part 1"
   ]
  },
  {
   "cell_type": "code",
   "execution_count": 11,
   "id": "e8d000a7",
   "metadata": {},
   "outputs": [
    {
     "name": "stdout",
     "output_type": "stream",
     "text": [
      "CPU times: user 427 ms, sys: 6.21 ms, total: 433 ms\n",
      "Wall time: 446 ms\n"
     ]
    },
    {
     "data": {
      "text/plain": [
       "3779"
      ]
     },
     "execution_count": 11,
     "metadata": {},
     "output_type": "execute_result"
    }
   ],
   "source": [
    "%%time\n",
    "explore(1)"
   ]
  },
  {
   "cell_type": "markdown",
   "id": "1b6504d0",
   "metadata": {},
   "source": [
    "## Part 2"
   ]
  },
  {
   "cell_type": "code",
   "execution_count": 12,
   "id": "0f74b58e",
   "metadata": {},
   "outputs": [
    {
     "name": "stdout",
     "output_type": "stream",
     "text": [
      "CPU times: user 12.8 s, sys: 69.3 ms, total: 12.9 s\n",
      "Wall time: 12.9 s\n"
     ]
    },
    {
     "data": {
      "text/plain": [
       "96988"
      ]
     },
     "execution_count": 12,
     "metadata": {},
     "output_type": "execute_result"
    }
   ],
   "source": [
    "%%time\n",
    "explore(2)"
   ]
  }
 ],
 "metadata": {
  "kernelspec": {
   "display_name": "Python 3",
   "language": "python",
   "name": "python3"
  },
  "language_info": {
   "codemirror_mode": {
    "name": "ipython",
    "version": 3
   },
   "file_extension": ".py",
   "mimetype": "text/x-python",
   "name": "python",
   "nbconvert_exporter": "python",
   "pygments_lexer": "ipython3",
   "version": "3.6.8"
  }
 },
 "nbformat": 4,
 "nbformat_minor": 5
}
