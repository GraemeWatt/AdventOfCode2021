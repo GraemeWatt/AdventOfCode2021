{
 "cells": [
  {
   "cell_type": "markdown",
   "id": "12739f6b",
   "metadata": {},
   "source": [
    "# Day 9: Smoke Basin"
   ]
  },
  {
   "cell_type": "markdown",
   "id": "772ff10e",
   "metadata": {},
   "source": [
    "https://adventofcode.com/2021/day/9"
   ]
  },
  {
   "cell_type": "markdown",
   "id": "07f0c34c",
   "metadata": {},
   "source": [
    "## Part 1"
   ]
  },
  {
   "cell_type": "code",
   "execution_count": 1,
   "id": "51dc1cdc",
   "metadata": {},
   "outputs": [],
   "source": [
    "example_txt = \"\"\"2199943210\n",
    "3987894921\n",
    "9856789892\n",
    "8767896789\n",
    "9899965678\"\"\""
   ]
  },
  {
   "cell_type": "code",
   "execution_count": 2,
   "id": "09d9bada",
   "metadata": {},
   "outputs": [],
   "source": [
    "with open('input.txt') as input_file:\n",
    "    input_txt = input_file.read()"
   ]
  },
  {
   "cell_type": "code",
   "execution_count": 3,
   "id": "383ccb0c",
   "metadata": {},
   "outputs": [],
   "source": [
    "def get_heightmap(txt):\n",
    "    \"\"\"Define a heightmap as a two-dimensional list of integers given input text.\"\"\"\n",
    "    heightmap = []\n",
    "    for row in txt.strip().split('\\n'):\n",
    "        heightmap.append(list(map(int, list(row.strip()))))\n",
    "    return heightmap"
   ]
  },
  {
   "cell_type": "code",
   "execution_count": 4,
   "id": "06a1426b",
   "metadata": {},
   "outputs": [],
   "source": [
    "def get_low_points(heightmap):\n",
    "    \"\"\"Return a list of low points and calculate the risk level.\"\"\"\n",
    "    low_points = []\n",
    "    risk_level = 0\n",
    "    nrows = len(heightmap)\n",
    "    ncols = len(heightmap[0])\n",
    "    for i, row in enumerate(heightmap):\n",
    "        for j, height in enumerate(row):\n",
    "            up = height < heightmap[i-1][j] if i > 0 else True\n",
    "            down = height < heightmap[i+1][j] if i+1 < nrows else True\n",
    "            left = height < heightmap[i][j-1] if j > 0 else True\n",
    "            right = height < heightmap[i][j+1] if j+1 < ncols else True\n",
    "            if up and down and left and right:\n",
    "                low_points.append((i, j))\n",
    "                risk_level += 1 + height\n",
    "    print(f'Sum of risk levels is {risk_level}.')\n",
    "    return low_points"
   ]
  },
  {
   "cell_type": "markdown",
   "id": "6fd63008",
   "metadata": {},
   "source": [
    "Calculate the sum of risk levels for the heightmap from the example then from the input file. "
   ]
  },
  {
   "cell_type": "code",
   "execution_count": 5,
   "id": "ed92cdc9",
   "metadata": {},
   "outputs": [
    {
     "name": "stdout",
     "output_type": "stream",
     "text": [
      "Sum of risk levels is 15.\n",
      "Sum of risk levels is 607.\n"
     ]
    }
   ],
   "source": [
    "for txt in (example_txt, input_txt):\n",
    "    heightmap = get_heightmap(txt)\n",
    "    low_points = get_low_points(heightmap)"
   ]
  },
  {
   "cell_type": "markdown",
   "id": "957dfdb7",
   "metadata": {},
   "source": [
    "## Part 2"
   ]
  },
  {
   "cell_type": "code",
   "execution_count": 6,
   "id": "bee20dc4",
   "metadata": {},
   "outputs": [],
   "source": [
    "def get_basin_size(heightmap, low_point):\n",
    "    \"\"\"Get the basin size of a low point by stepping through adjacent locations.\"\"\"\n",
    "    checked_points = [low_point]\n",
    "    step(heightmap, low_point, checked_points)\n",
    "    basin_size = len(checked_points)\n",
    "    return basin_size"
   ]
  },
  {
   "cell_type": "code",
   "execution_count": 7,
   "id": "bc6f70f2",
   "metadata": {},
   "outputs": [],
   "source": [
    "def step(heightmap, point, checked_points):\n",
    "    \"\"\"Step in all four directions from a given point.\"\"\"\n",
    "    up, down, left, right = get_adjacent_points(heightmap, point)\n",
    "    for direction in (up, down, left, right):\n",
    "        if direction and direction not in checked_points:\n",
    "            checked_points.append(direction)\n",
    "            # Call \"step\" function recursively to map out basin.\n",
    "            step(heightmap, direction, checked_points)"
   ]
  },
  {
   "cell_type": "code",
   "execution_count": 8,
   "id": "046c7fdb",
   "metadata": {},
   "outputs": [],
   "source": [
    "def get_adjacent_points(heightmap, point):\n",
    "    \"\"\"Get adjacent points unless at an edge or height is 9 (edge of basin).\"\"\"\n",
    "    i, j = point\n",
    "    height = heightmap[i][j]\n",
    "    nrows = len(heightmap)\n",
    "    ncols = len(heightmap[0])\n",
    "    up = (i-1, j) if i > 0 and heightmap[i-1][j] < 9 else False\n",
    "    down = (i+1, j) if i+1 < nrows and heightmap[i+1][j] < 9 else False\n",
    "    left = (i, j-1) if j > 0 and heightmap[i][j-1] < 9 else False\n",
    "    right = (i, j+1) if j+1 < ncols and heightmap[i][j+1] < 9 else False\n",
    "    return up, down, left, right"
   ]
  },
  {
   "cell_type": "code",
   "execution_count": 9,
   "id": "808b2600",
   "metadata": {},
   "outputs": [],
   "source": [
    "def multiply_three_largest_basins(heightmap, low_points):\n",
    "    \"\"\"Identify the basins and multiply the three largest sizes.\"\"\"\n",
    "    basin_sizes = []\n",
    "    for low_point in low_points:\n",
    "        basin_size = get_basin_size(heightmap, low_point)\n",
    "        basin_sizes.append(basin_size)\n",
    "    basin_sizes = sorted(basin_sizes, reverse=True)\n",
    "    multiplied_sizes = basin_sizes[0] * basin_sizes[1] * basin_sizes[2]\n",
    "    print(f'Multiplied sizes of the three largest basins is {multiplied_sizes}.')"
   ]
  },
  {
   "cell_type": "markdown",
   "id": "c6e330ea",
   "metadata": {},
   "source": [
    "Calculate the sum of the sizes of the three largest basins for the heightmap from the example then from the input file. "
   ]
  },
  {
   "cell_type": "code",
   "execution_count": 10,
   "id": "91dd89fc",
   "metadata": {},
   "outputs": [
    {
     "name": "stdout",
     "output_type": "stream",
     "text": [
      "Sum of risk levels is 15.\n",
      "Multiplied sizes of the three largest basins is 1134.\n",
      "Sum of risk levels is 607.\n",
      "Multiplied sizes of the three largest basins is 900864.\n"
     ]
    }
   ],
   "source": [
    "for txt in (example_txt, input_txt):\n",
    "    heightmap = get_heightmap(txt)\n",
    "    low_points = get_low_points(heightmap)\n",
    "    multiply_three_largest_basins(heightmap, low_points)"
   ]
  }
 ],
 "metadata": {
  "kernelspec": {
   "display_name": "Python 3",
   "language": "python",
   "name": "python3"
  },
  "language_info": {
   "codemirror_mode": {
    "name": "ipython",
    "version": 3
   },
   "file_extension": ".py",
   "mimetype": "text/x-python",
   "name": "python",
   "nbconvert_exporter": "python",
   "pygments_lexer": "ipython3",
   "version": "3.6.8"
  }
 },
 "nbformat": 4,
 "nbformat_minor": 5
}
