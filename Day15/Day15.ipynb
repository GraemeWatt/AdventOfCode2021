{
 "cells": [
  {
   "cell_type": "markdown",
   "id": "e5a0d04e",
   "metadata": {},
   "source": [
    "# Day 15: Chiton"
   ]
  },
  {
   "cell_type": "markdown",
   "id": "7a8b73de",
   "metadata": {},
   "source": [
    "https://adventofcode.com/2021/day/15"
   ]
  },
  {
   "cell_type": "markdown",
   "id": "0143a097",
   "metadata": {},
   "source": [
    "## Part 1"
   ]
  },
  {
   "cell_type": "code",
   "execution_count": 1,
   "id": "c213abf2",
   "metadata": {},
   "outputs": [],
   "source": [
    "import numpy as np"
   ]
  },
  {
   "cell_type": "code",
   "execution_count": 2,
   "id": "3d00acf2",
   "metadata": {},
   "outputs": [],
   "source": [
    "example_txt = \"\"\"1163751742\n",
    "1381373672\n",
    "2136511328\n",
    "3694931569\n",
    "7463417111\n",
    "1319128137\n",
    "1359912421\n",
    "3125421639\n",
    "1293138521\n",
    "2311944581\"\"\""
   ]
  },
  {
   "cell_type": "code",
   "execution_count": 3,
   "id": "d8e050e9",
   "metadata": {},
   "outputs": [],
   "source": [
    "with open('input.txt') as input_file:\n",
    "    input_txt = input_file.read()"
   ]
  },
  {
   "cell_type": "code",
   "execution_count": 4,
   "id": "aa513d0f",
   "metadata": {},
   "outputs": [],
   "source": [
    "def get_array(txt):\n",
    "    \"\"\"Return array of risk levels, the origin and the destination.\"\"\"\n",
    "    array = np.array([[int(position) for position in line] for line in txt.strip().split('\\n')])\n",
    "    origin = (0, 0)\n",
    "    destination = (array.shape[0] - 1, array.shape[1] - 1)\n",
    "    return array, origin, destination"
   ]
  },
  {
   "cell_type": "markdown",
   "id": "e7718ceb",
   "metadata": {},
   "source": [
    "First try a simple brute-force approach by calculating the total risk of all valid paths, re-using a method used for exploring the cave system for [Day 12](https://adventofcode.com/2021/day/12)."
   ]
  },
  {
   "cell_type": "code",
   "execution_count": 5,
   "id": "344d6bdf",
   "metadata": {},
   "outputs": [],
   "source": [
    "def get_valid_paths(origin, destination):\n",
    "    \"\"\"Get a list of all valid paths from the origin to the destination,\n",
    "    assuming the submarine only moves right or down.\"\"\"\n",
    "    valid_paths = []\n",
    "    queue = [[origin]]\n",
    "    while queue:\n",
    "        path = queue.pop()\n",
    "        (i, j) = path[-1]\n",
    "        if (i, j) == destination:\n",
    "            valid_paths.append(path)\n",
    "        else:\n",
    "            options = [path + [neighbour] for neighbour in ((i+1, j), (i,j+1)) \\\n",
    "                       if neighbour[0] <= destination[0] and neighbour[1] <= destination[1]]\n",
    "            queue.extend(options)\n",
    "    return valid_paths"
   ]
  },
  {
   "cell_type": "code",
   "execution_count": 6,
   "id": "05d8bdb0",
   "metadata": {},
   "outputs": [],
   "source": [
    "def get_lowest_total_risk(valid_paths, array, origin):\n",
    "    \"\"\"Evaluate the lowest total risk of all valid paths.\"\"\"\n",
    "    total_risk = []\n",
    "    for path in valid_paths:\n",
    "        risk = 0\n",
    "        for position in path:\n",
    "            if position != origin:\n",
    "                i, j = position\n",
    "                risk += array[i, j]\n",
    "        total_risk.append(risk)\n",
    "    return min(total_risk)"
   ]
  },
  {
   "cell_type": "code",
   "execution_count": 7,
   "id": "31340ab0",
   "metadata": {},
   "outputs": [
    {
     "name": "stdout",
     "output_type": "stream",
     "text": [
      "Lowest total risk is 40.\n",
      "CPU times: user 583 ms, sys: 22.4 ms, total: 605 ms\n",
      "Wall time: 256 ms\n"
     ]
    }
   ],
   "source": [
    "%%time\n",
    "array, origin, destination = get_array(example_txt)\n",
    "valid_paths = get_valid_paths(origin, destination)\n",
    "lowest_total_risk = get_lowest_total_risk(valid_paths, array, origin)\n",
    "print(f'Lowest total risk is {lowest_total_risk}.')"
   ]
  },
  {
   "cell_type": "markdown",
   "id": "f3131142",
   "metadata": {},
   "source": [
    "The solution above works well enough for the 10⨉10 example, but it does not scale for the 100⨉100 puzzle input.\n",
    "\n",
    "Apparently, a more sophisticated solution is provided by using the [A* search algorithm](https://en.wikipedia.org/wiki/A*_search_algorithm).  The two functions below are mostly copied from the [pseudocode](https://en.wikipedia.org/wiki/A*_search_algorithm#Pseudocode) of the Wikipedia article, with minimal changes to convert from pseudocode to Python and to encode the specifics of the puzzle. "
   ]
  },
  {
   "cell_type": "code",
   "execution_count": 8,
   "id": "c8625ee2",
   "metadata": {},
   "outputs": [],
   "source": [
    "def reconstruct_path(cameFrom, current):\n",
    "    \"\"\"Reconstruct the path once the goal has been reached.\"\"\"\n",
    "    total_path = [current]\n",
    "    while current in cameFrom.keys():\n",
    "        current = cameFrom[current]\n",
    "        total_path.insert(0, current)\n",
    "    return total_path"
   ]
  },
  {
   "cell_type": "code",
   "execution_count": 9,
   "id": "2d0a1d99",
   "metadata": {},
   "outputs": [],
   "source": [
    "def A_Star(start, goal, h, array):\n",
    "    \"\"\"A* finds a path from start to goal.\n",
    "    h is the heuristic function. h(n, goal) estimates the cost to reach goal from node n.\"\"\"\n",
    "    \n",
    "    # The set of discovered nodes that may need to be (re-)expanded.\n",
    "    # Initially, only the start node is known.\n",
    "    # This is usually implemented as a min-heap or priority queue rather than a hash-set.\n",
    "    openSet = [start]\n",
    "\n",
    "    # For node n, cameFrom[n] is the node immediately preceding it on the cheapest path from start\n",
    "    # to n currently known.\n",
    "    cameFrom = {}  # an empty map\n",
    "\n",
    "    # For node n, gScore[n] is the cost of the cheapest path from start to n currently known.\n",
    "    gScore = {}  # map with default value of Infinity\n",
    "    gScore[start] = 0\n",
    "\n",
    "    # For node n, fScore[n] = gScore[n] + h(n). fScore[n] represents our current best guess as to\n",
    "    # how short a path from start to finish can be if it goes through n.\n",
    "    fScore = {}  # map with default value of Infinity\n",
    "    fScore[start] = h(start, goal)\n",
    "\n",
    "    while openSet:\n",
    "        # This operation can occur in O(1) time if openSet is a min-heap or a priority queue\n",
    "        current = min(openSet, key=fScore.get)  # the node in openSet having the lowest fScore[] value\n",
    "        \n",
    "        if current == goal:\n",
    "            return reconstruct_path(cameFrom, current)\n",
    "\n",
    "        # Construct a list of neighbors of the current node.\n",
    "        neighbors = []\n",
    "        if current[0]-1 >= start[0]:\n",
    "            neighbors.append((current[0]-1, current[1]))\n",
    "        if current[0]+1 <= goal[0]:\n",
    "            neighbors.append((current[0]+1, current[1]))\n",
    "        if current[1]-1 >= start[1]:\n",
    "            neighbors.append((current[0], current[1]-1))\n",
    "        if current[1]+1 <= goal[1]:\n",
    "            neighbors.append((current[0], current[1]+1))\n",
    "\n",
    "        openSet.remove(current)\n",
    "        for neighbor in neighbors:\n",
    "            # d(current,neighbor) is the weight of the edge from current to neighbor\n",
    "            # tentative_gScore is the distance from start to the neighbor through current\n",
    "            # tentative_gScore := gScore[current] + d(current, neighbor)\n",
    "            tentative_gScore = gScore.get(current, float('inf')) + array[neighbor[0], neighbor[1]]\n",
    "            if tentative_gScore < gScore.get(neighbor, float('inf')):\n",
    "                # This path to neighbor is better than any previous one. Record it!\n",
    "                cameFrom[neighbor] = current\n",
    "                gScore[neighbor] = tentative_gScore\n",
    "                fScore[neighbor] = tentative_gScore + h(neighbor, goal)\n",
    "                if neighbor not in openSet:\n",
    "                    openSet.append(neighbor)\n",
    "\n",
    "    # Open set is empty but goal was never reached\n",
    "    print('Failure')\n",
    "    return []"
   ]
  },
  {
   "cell_type": "markdown",
   "id": "9b64c24c",
   "metadata": {},
   "source": [
    "Define a heuristic function using [taxicab geometry](https://en.wikipedia.org/wiki/Taxicab_geometry) to estimate the cheapest distance to the goal assuming that each position has risk level of 1."
   ]
  },
  {
   "cell_type": "code",
   "execution_count": 10,
   "id": "8aa2dbf5",
   "metadata": {},
   "outputs": [],
   "source": [
    "def heuristic(node, goal):\n",
    "    \"\"\"Taxicab distance from a given node to the goal.\"\"\"\n",
    "    return (goal[0] - node[0]) + (goal[1] - node[1])"
   ]
  },
  {
   "cell_type": "code",
   "execution_count": 11,
   "id": "5ccdf44c",
   "metadata": {},
   "outputs": [],
   "source": [
    "def calculate_risk(total_path, array, origin):\n",
    "    \"\"\"Calculate the risk from the total path.\"\"\"\n",
    "    risk = 0\n",
    "    for position in total_path:\n",
    "        if position != origin:\n",
    "            i, j = position\n",
    "            risk += array[i, j]\n",
    "    return risk"
   ]
  },
  {
   "cell_type": "markdown",
   "id": "1a40bb72",
   "metadata": {},
   "source": [
    "Calculate the lowest total risk for the example then the input text."
   ]
  },
  {
   "cell_type": "code",
   "execution_count": 12,
   "id": "18c0b5cd",
   "metadata": {},
   "outputs": [
    {
     "name": "stdout",
     "output_type": "stream",
     "text": [
      "Lowest total risk is 40.\n",
      "\n",
      "Lowest total risk is 398.\n",
      "\n",
      "CPU times: user 180 ms, sys: 1.09 ms, total: 181 ms\n",
      "Wall time: 180 ms\n"
     ]
    }
   ],
   "source": [
    "%%time\n",
    "for txt in (example_txt, input_txt):\n",
    "    array, origin, destination = get_array(txt)\n",
    "    total_path = A_Star(origin, destination, heuristic, array)\n",
    "    lowest_total_risk = calculate_risk(total_path, array, origin)\n",
    "    print(f'Lowest total risk is {lowest_total_risk}.\\n')"
   ]
  },
  {
   "cell_type": "markdown",
   "id": "98940ef6",
   "metadata": {},
   "source": [
    "## Part 2"
   ]
  },
  {
   "cell_type": "markdown",
   "id": "39955769",
   "metadata": {},
   "source": [
    "The A* search algorithm also works for an enlarged 500⨉500 array in a reasonable time without modifications."
   ]
  },
  {
   "cell_type": "code",
   "execution_count": 13,
   "id": "df3519a4",
   "metadata": {},
   "outputs": [],
   "source": [
    "def get_big_array(array):\n",
    "    \"\"\"Enlarge the cave by 5 times in each direction with increased risk levels in each tile.\"\"\"\n",
    "    big_array = np.tile(array, (5,5))\n",
    "    for i in range(big_array.shape[0]):\n",
    "        for j in range(big_array.shape[1]):\n",
    "            increased_risk = big_array[i,j] + i//array.shape[0] + j//array.shape[1]\n",
    "            big_array[i,j] = increased_risk % 10 + increased_risk // 10\n",
    "    destination = (big_array.shape[0] - 1, big_array.shape[1] - 1)\n",
    "    return big_array, destination"
   ]
  },
  {
   "cell_type": "code",
   "execution_count": 14,
   "id": "5922a9fc",
   "metadata": {},
   "outputs": [
    {
     "name": "stdout",
     "output_type": "stream",
     "text": [
      "Lowest total risk is 315.\n",
      "\n",
      "Lowest total risk is 2817.\n",
      "\n",
      "CPU times: user 13.1 s, sys: 13.6 ms, total: 13.2 s\n",
      "Wall time: 13.2 s\n"
     ]
    }
   ],
   "source": [
    "%%time\n",
    "for txt in (example_txt, input_txt):\n",
    "    array, origin, destination = get_array(txt)\n",
    "    big_array, destination = get_big_array(array)\n",
    "    total_path = A_Star(origin, destination, heuristic, big_array)\n",
    "    lowest_total_risk = calculate_risk(total_path, big_array, origin)\n",
    "    print(f'Lowest total risk is {lowest_total_risk}.\\n')"
   ]
  }
 ],
 "metadata": {
  "kernelspec": {
   "display_name": "Python 3 (ipykernel)",
   "language": "python",
   "name": "python3"
  },
  "language_info": {
   "codemirror_mode": {
    "name": "ipython",
    "version": 3
   },
   "file_extension": ".py",
   "mimetype": "text/x-python",
   "name": "python",
   "nbconvert_exporter": "python",
   "pygments_lexer": "ipython3",
   "version": "3.8.2"
  }
 },
 "nbformat": 4,
 "nbformat_minor": 5
}
