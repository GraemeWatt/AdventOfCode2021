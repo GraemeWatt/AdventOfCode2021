{
 "cells": [
  {
   "cell_type": "markdown",
   "id": "a801b8ca",
   "metadata": {},
   "source": [
    "# Day 13: Transparent Origami"
   ]
  },
  {
   "cell_type": "markdown",
   "id": "50aa5428",
   "metadata": {},
   "source": [
    "https://adventofcode.com/2021/day/13"
   ]
  },
  {
   "cell_type": "markdown",
   "id": "7839ed0d",
   "metadata": {},
   "source": [
    "## Part 1"
   ]
  },
  {
   "cell_type": "code",
   "execution_count": 1,
   "id": "5a672516",
   "metadata": {},
   "outputs": [],
   "source": [
    "import numpy as np"
   ]
  },
  {
   "cell_type": "code",
   "execution_count": 2,
   "id": "04ecd6df",
   "metadata": {},
   "outputs": [],
   "source": [
    "example_txt = \"\"\"6,10\n",
    "0,14\n",
    "9,10\n",
    "0,3\n",
    "10,4\n",
    "4,11\n",
    "6,0\n",
    "6,12\n",
    "4,1\n",
    "0,13\n",
    "10,12\n",
    "3,4\n",
    "3,0\n",
    "8,4\n",
    "1,10\n",
    "2,14\n",
    "8,10\n",
    "9,0\n",
    "\n",
    "fold along y=7\n",
    "fold along x=5\"\"\""
   ]
  },
  {
   "cell_type": "code",
   "execution_count": 3,
   "id": "87ed4cb8",
   "metadata": {},
   "outputs": [],
   "source": [
    "with open('input.txt') as input_file:\n",
    "    input_txt = input_file.read()"
   ]
  },
  {
   "cell_type": "code",
   "execution_count": 4,
   "id": "d42ef013",
   "metadata": {},
   "outputs": [],
   "source": [
    "def parse_text(txt):\n",
    "    \"\"\"Parse the marked dots and the folding instructions.\"\"\"\n",
    "    \n",
    "    # Store the marked dots as a list of (x, y) tuples.\n",
    "    marked_dots, instructions = txt.split('\\n\\n')\n",
    "    marked_dots = marked_dots.split()\n",
    "    marked_dots = [tuple(map(int, dot.split(','))) for dot in marked_dots]\n",
    "    \n",
    "    # Store the folds as a list of (coordinate, value) tuples.\n",
    "    # Infer the maximum x and y values from twice the value of the first folds.\n",
    "    xmax, ymax = (0, 0)\n",
    "    folds = []\n",
    "    instructions = instructions.strip().split('\\n')\n",
    "    for instruction in instructions:\n",
    "        coordinate, value = instruction.split()[-1].split('=')\n",
    "        value = int(value)\n",
    "        if coordinate == 'x' and 2*value > xmax:\n",
    "            xmax = 2*value\n",
    "        if coordinate == 'y' and 2*value > ymax:\n",
    "            ymax = 2*value\n",
    "        folds.append((coordinate, value))\n",
    "    \n",
    "    # Define the sheet of transparent paper and mark the positions of the dots.\n",
    "    paper = np.zeros((xmax+1, ymax+1), dtype=bool)\n",
    "    for dot in marked_dots:\n",
    "        paper[dot[0], dot[1]] = True\n",
    "    \n",
    "    return marked_dots, folds, paper"
   ]
  },
  {
   "cell_type": "code",
   "execution_count": 5,
   "id": "25530538",
   "metadata": {},
   "outputs": [],
   "source": [
    "def follow_instructions(folds, paper):\n",
    "    \"\"\"Fold the paper according to the instructions.\"\"\"\n",
    "    for fold in folds:\n",
    "        coordinate, value = fold\n",
    "        xmax = len(paper) - 1\n",
    "        ymax = len(paper[0]) - 1\n",
    "        if coordinate == 'x':  # fold along line \"x = value\"\n",
    "            assert not any(paper[value, :])  # check no dots on fold line\n",
    "            for y in range(0, ymax+1):\n",
    "                for x in range(0, value):\n",
    "                    paper[x, y] = paper[x, y] or paper[xmax - x, y]\n",
    "            paper = paper[:value, :]\n",
    "        elif coordinate == 'y':  # fold along line \"y = value\"\n",
    "            assert not any(paper[:, value])  # check no dots on fold line\n",
    "            for x in range(0, xmax+1):\n",
    "                for y in range(0, value):\n",
    "                    paper[x, y] = paper[x, y] or paper[x, ymax - y]\n",
    "            paper = paper[:, :value]\n",
    "        print(f'After folding along {coordinate}={value}, {paper.sum()} dots are visible.')\n",
    "    return paper"
   ]
  },
  {
   "cell_type": "code",
   "execution_count": 6,
   "id": "682b26e8",
   "metadata": {},
   "outputs": [],
   "source": [
    "def visualize_paper(paper):\n",
    "    \"\"\"Display a simple visualisation,\n",
    "    with '*' for marked dots\n",
    "    and '.' for unmarked ones.\"\"\"\n",
    "    for y in range(len(paper[0])):\n",
    "        line = []\n",
    "        for x in range(len(paper)):\n",
    "            line.append('#' if paper[x, y] else '.')\n",
    "        print(''.join(line))"
   ]
  },
  {
   "cell_type": "markdown",
   "id": "ba9698ef",
   "metadata": {},
   "source": [
    "Check the code with the example text, then generate the answers from the input text."
   ]
  },
  {
   "cell_type": "code",
   "execution_count": 7,
   "id": "7f8e640b",
   "metadata": {},
   "outputs": [
    {
     "name": "stdout",
     "output_type": "stream",
     "text": [
      "After folding along y=7, 17 dots are visible.\n",
      "After folding along x=5, 16 dots are visible.\n",
      "#####\n",
      "#...#\n",
      "#...#\n",
      "#...#\n",
      "#####\n",
      ".....\n",
      ".....\n",
      "\n",
      "After folding along x=655, 795 dots are visible.\n",
      "After folding along y=447, 653 dots are visible.\n",
      "After folding along x=327, 533 dots are visible.\n",
      "After folding along y=223, 450 dots are visible.\n",
      "After folding along x=163, 374 dots are visible.\n",
      "After folding along y=111, 308 dots are visible.\n",
      "After folding along x=81, 249 dots are visible.\n",
      "After folding along y=55, 199 dots are visible.\n",
      "After folding along x=40, 166 dots are visible.\n",
      "After folding along y=27, 139 dots are visible.\n",
      "After folding along y=13, 110 dots are visible.\n",
      "After folding along y=6, 88 dots are visible.\n",
      ".##..####...##.#..#.#....#..#..##....##.\n",
      "#..#.#.......#.#.#..#....#..#.#..#....#.\n",
      "#....###.....#.##...#....#..#.#.......#.\n",
      "#....#.......#.#.#..#....#..#.#.##....#.\n",
      "#..#.#....#..#.#.#..#....#..#.#..#.#..#.\n",
      ".##..####..##..#..#.####..##...###..##..\n",
      "\n"
     ]
    }
   ],
   "source": [
    "for txt in (example_txt, input_txt):\n",
    "    marked_dots, folds, paper = parse_text(txt)\n",
    "    paper = follow_instructions(folds, paper)\n",
    "    visualize_paper(paper)\n",
    "    print()"
   ]
  },
  {
   "cell_type": "markdown",
   "id": "3bfae82e",
   "metadata": {},
   "source": [
    "## Part 1"
   ]
  },
  {
   "cell_type": "markdown",
   "id": "a75f4411",
   "metadata": {},
   "source": [
    "Q. How many dots are visible after completing just the first fold instruction on your transparent paper?\n",
    "\n",
    "A. 795"
   ]
  },
  {
   "cell_type": "markdown",
   "id": "2647048a",
   "metadata": {},
   "source": [
    "## Part 2"
   ]
  },
  {
   "cell_type": "markdown",
   "id": "50f2e40d",
   "metadata": {},
   "source": [
    "Q. What code do you use to activate the infrared thermal imaging camera system?\n",
    "\n",
    "A. CEJKLUGJ"
   ]
  }
 ],
 "metadata": {
  "kernelspec": {
   "display_name": "Python 3",
   "language": "python",
   "name": "python3"
  },
  "language_info": {
   "codemirror_mode": {
    "name": "ipython",
    "version": 3
   },
   "file_extension": ".py",
   "mimetype": "text/x-python",
   "name": "python",
   "nbconvert_exporter": "python",
   "pygments_lexer": "ipython3",
   "version": "3.6.8"
  }
 },
 "nbformat": 4,
 "nbformat_minor": 5
}
