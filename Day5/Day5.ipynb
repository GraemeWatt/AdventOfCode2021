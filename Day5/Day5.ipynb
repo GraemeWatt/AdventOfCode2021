{
 "cells": [
  {
   "cell_type": "markdown",
   "id": "86ab002c",
   "metadata": {},
   "source": [
    "# Day 5: Hydrothermal Venture"
   ]
  },
  {
   "cell_type": "markdown",
   "id": "d1aeecaf",
   "metadata": {},
   "source": [
    "https://adventofcode.com/2021/day/5"
   ]
  },
  {
   "cell_type": "code",
   "execution_count": 1,
   "id": "5533b45e",
   "metadata": {},
   "outputs": [],
   "source": [
    "class Line:\n",
    "    \"\"\"Class for a line of vents from (x1,y1) to (x2,y2).\"\"\"\n",
    "    \n",
    "    def __init__(self, x1, y1, x2, y2):\n",
    "        self.x1, self.y1, self.x2, self.y2 = x1, y1, x2, y2\n",
    "        self.xmin = min(self.x1, self.x2)\n",
    "        self.xmax = max(self.x1, self.x2)\n",
    "        self.ymin = min(self.y1, self.y2)\n",
    "        self.ymax = max(self.y1, self.y2)\n",
    "        \n",
    "    def __str__(self):\n",
    "        return f'Line from ({self.x1},{self.y1}) to ({self.x2},{self.y2}).'\n",
    "    \n",
    "    def covers_point(self, x, y, allow_diagonal=False):\n",
    "        \"\"\"Check if point (x,y) lies on the line.\"\"\"\n",
    "        assert self.x1 == self.x2 or self.y1 == self.y2 \\\n",
    "            or (allow_diagonal and self.xmax - self.xmin == self.ymax - self.ymin)\n",
    "        in_range = self.xmin <= x <= self.xmax and self.ymin <= y <= self.ymax\n",
    "        if not in_range:\n",
    "            return False\n",
    "        elif self.x1 == self.x2 or self.y1 == self.y2:  # horizontal or vertical line\n",
    "            return True\n",
    "        else:  # diagonal line with equation y = m*x + c, where m = +1 or -1\n",
    "            m = (self.y1 - self.y2)/(self.x1 - self.x2)\n",
    "            c = self.y1 - m*self.x1\n",
    "            assert m == +1 or m == -1\n",
    "            assert c == self.y2 - m*self.x2\n",
    "            return y == m*x + c"
   ]
  },
  {
   "cell_type": "code",
   "execution_count": 2,
   "id": "c605745f",
   "metadata": {},
   "outputs": [],
   "source": [
    "def get_lines(txt, allow_diagonal=False):\n",
    "    \"\"\"Get lines of vents from text input.\"\"\"\n",
    "    import re\n",
    "    txt = txt.strip().split('\\n')\n",
    "    lines = []\n",
    "    pattern = re.compile('(\\d+),(\\d+) -> (\\d+),(\\d+)')\n",
    "    for line in txt:\n",
    "        match = pattern.search(line)\n",
    "        if match:\n",
    "            x1, y1, x2, y2 = map(int, match.group(1, 2, 3, 4))\n",
    "            lines.append(Line(x1, y1, x2, y2))\n",
    "        else:\n",
    "            print(f'Error parsing line: {line}')\n",
    "    if not allow_diagonal:\n",
    "        # Only consider horizontal and vertical lines.\n",
    "        lines = list(filter(lambda l : l.x1 == l.x2 or l.y1 == l.y2, lines))\n",
    "    else:\n",
    "        # Also consider diagonal lines.\n",
    "        lines = list(filter(lambda l : l.x1 == l.x2 or l.y1 == l.y2 \\\n",
    "                            or abs(l.x1 - l.x2) == abs(l.y1 - l.y2), lines))\n",
    "    return lines"
   ]
  },
  {
   "cell_type": "code",
   "execution_count": 3,
   "id": "62f58a60",
   "metadata": {},
   "outputs": [],
   "source": [
    "def count_dangerous_points(lines, max_coordinate, allow_diagonal=False):\n",
    "    \"\"\"Count the number of points where at least two lines overlap.\"\"\"\n",
    "    dangerous_points = 0\n",
    "    for x in range(0, max_coordinate+1):\n",
    "        for y in range(0, max_coordinate+1):\n",
    "            lines_covering = sum([line.covers_point(x, y, allow_diagonal) for line in lines])\n",
    "            if lines_covering > 1:\n",
    "                dangerous_points += 1\n",
    "    print(f'There are {dangerous_points} points where at least two lines overlap.')"
   ]
  },
  {
   "cell_type": "markdown",
   "id": "f1fe0551",
   "metadata": {},
   "source": [
    "Test with the example."
   ]
  },
  {
   "cell_type": "code",
   "execution_count": 4,
   "id": "b5a6566b",
   "metadata": {},
   "outputs": [
    {
     "name": "stdout",
     "output_type": "stream",
     "text": [
      "There are 5 points where at least two lines overlap.\n"
     ]
    }
   ],
   "source": [
    "example_txt = \"\"\"0,9 -> 5,9\n",
    "8,0 -> 0,8\n",
    "9,4 -> 3,4\n",
    "2,2 -> 2,1\n",
    "7,0 -> 7,4\n",
    "6,4 -> 2,0\n",
    "0,9 -> 2,9\n",
    "3,4 -> 1,4\n",
    "0,0 -> 8,8\n",
    "5,5 -> 8,2\"\"\"\n",
    "max_coordinate = 9  # maximum coordinate value\n",
    "lines = get_lines(example_txt)\n",
    "count_dangerous_points(lines, max_coordinate)"
   ]
  },
  {
   "cell_type": "markdown",
   "id": "53e08dd7",
   "metadata": {},
   "source": [
    "Now also consider diagonal lines."
   ]
  },
  {
   "cell_type": "code",
   "execution_count": 5,
   "id": "1e26f090",
   "metadata": {
    "scrolled": false
   },
   "outputs": [
    {
     "name": "stdout",
     "output_type": "stream",
     "text": [
      "There are 12 points where at least two lines overlap.\n"
     ]
    }
   ],
   "source": [
    "lines = get_lines(example_txt, allow_diagonal=True)\n",
    "count_dangerous_points(lines, max_coordinate, allow_diagonal=True)"
   ]
  },
  {
   "cell_type": "markdown",
   "id": "eb9dee40",
   "metadata": {},
   "source": [
    "Now repeat with the input.  (This takes a few minutes.)"
   ]
  },
  {
   "cell_type": "code",
   "execution_count": 6,
   "id": "26d564d7",
   "metadata": {},
   "outputs": [
    {
     "name": "stdout",
     "output_type": "stream",
     "text": [
      "There are 8111 points where at least two lines overlap.\n",
      "CPU times: user 2min 44s, sys: 450 ms, total: 2min 45s\n",
      "Wall time: 2min 46s\n"
     ]
    }
   ],
   "source": [
    "%%time\n",
    "with open('input.txt') as input_file:\n",
    "    input_txt = input_file.read()\n",
    "max_coordinate = 999  # maximum coordinate value\n",
    "lines = get_lines(input_txt)\n",
    "count_dangerous_points(lines, max_coordinate)"
   ]
  },
  {
   "cell_type": "code",
   "execution_count": 7,
   "id": "0b744709",
   "metadata": {},
   "outputs": [
    {
     "name": "stdout",
     "output_type": "stream",
     "text": [
      "There are 22088 points where at least two lines overlap.\n",
      "CPU times: user 5min 56s, sys: 867 ms, total: 5min 56s\n",
      "Wall time: 5min 58s\n"
     ]
    }
   ],
   "source": [
    "%%time\n",
    "lines = get_lines(input_txt, allow_diagonal=True)\n",
    "count_dangerous_points(lines, max_coordinate, allow_diagonal=True)"
   ]
  }
 ],
 "metadata": {
  "kernelspec": {
   "display_name": "Python 3",
   "language": "python",
   "name": "python3"
  },
  "language_info": {
   "codemirror_mode": {
    "name": "ipython",
    "version": 3
   },
   "file_extension": ".py",
   "mimetype": "text/x-python",
   "name": "python",
   "nbconvert_exporter": "python",
   "pygments_lexer": "ipython3",
   "version": "3.6.8"
  }
 },
 "nbformat": 4,
 "nbformat_minor": 5
}
