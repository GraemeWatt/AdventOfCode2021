{
 "cells": [
  {
   "cell_type": "markdown",
   "id": "13b3e962",
   "metadata": {},
   "source": [
    "# Day 8: Seven Segment Search"
   ]
  },
  {
   "cell_type": "markdown",
   "id": "e1b433b2",
   "metadata": {},
   "source": [
    "https://adventofcode.com/2021/day/8"
   ]
  },
  {
   "cell_type": "markdown",
   "id": "9309d8a7",
   "metadata": {},
   "source": [
    "## Part 1"
   ]
  },
  {
   "cell_type": "code",
   "execution_count": 1,
   "id": "88989fef",
   "metadata": {},
   "outputs": [],
   "source": [
    "short_example_txt = \"acedgfb cdfbe gcdfa fbcad dab cefabd cdfgeb eafb cagedb ab | cdfeb fcadb cdfeb cdbaf\""
   ]
  },
  {
   "cell_type": "code",
   "execution_count": 2,
   "id": "15723ea0",
   "metadata": {},
   "outputs": [],
   "source": [
    "long_example_txt = \"\"\"be cfbegad cbdgef fgaecd cgeb fdcge agebfd fecdb fabcd edb | fdgacbe cefdb cefbgd gcbe\n",
    "edbfga begcd cbg gc gcadebf fbgde acbgfd abcde gfcbed gfec | fcgedb cgb dgebacf gc\n",
    "fgaebd cg bdaec gdafb agbcfd gdcbef bgcad gfac gcb cdgabef | cg cg fdcagb cbg\n",
    "fbegcd cbd adcefb dageb afcb bc aefdc ecdab fgdeca fcdbega | efabcd cedba gadfec cb\n",
    "aecbfdg fbg gf bafeg dbefa fcge gcbea fcaegb dgceab fcbdga | gecf egdcabf bgf bfgea\n",
    "fgeab ca afcebg bdacfeg cfaedg gcfdb baec bfadeg bafgc acf | gebdcfa ecba ca fadegcb\n",
    "dbcfg fgd bdegcaf fgec aegbdf ecdfab fbedc dacgb gdcebf gf | cefg dcbef fcge gbcadfe\n",
    "bdfegc cbegaf gecbf dfcage bdacg ed bedf ced adcbefg gebcd | ed bcgafe cdgba cbgef\n",
    "egadfb cdbfeg cegd fecab cgb gbdefca cg fgcdab egfdb bfceg | gbdfcae bgc cg cgb\n",
    "gcafb gcf dcaebfg ecagb gf abcdeg gaef cafbge fdbac fegbdc | fgae cfgab fg bagce\"\"\""
   ]
  },
  {
   "cell_type": "code",
   "execution_count": 3,
   "id": "e8ebbfe8",
   "metadata": {},
   "outputs": [],
   "source": [
    "with open('input.txt') as input_file:\n",
    "    input_txt = input_file.read()"
   ]
  },
  {
   "cell_type": "code",
   "execution_count": 4,
   "id": "8dc95698",
   "metadata": {},
   "outputs": [],
   "source": [
    "def process_input(txt):\n",
    "    \"\"\"Manipulate the input text into two lists.\"\"\"\n",
    "    txt = txt.strip().split('\\n')\n",
    "    signal_patterns, output_values = [], []\n",
    "    for entry in txt:\n",
    "        signal, output = entry.strip().split('|')\n",
    "        signal_patterns.append(signal.strip().split())\n",
    "        output_values.append(output.strip().split())\n",
    "    return signal_patterns, output_values"
   ]
  },
  {
   "cell_type": "markdown",
   "id": "fce6d2a5",
   "metadata": {},
   "source": [
    "Define the seven segments for each digit from 0 to 9.  Use capital letters for the original segments before the malfunction."
   ]
  },
  {
   "cell_type": "code",
   "execution_count": 5,
   "id": "38a92704",
   "metadata": {},
   "outputs": [
    {
     "name": "stdout",
     "output_type": "stream",
     "text": [
      "0 ABCEFG\n",
      "1 CF\n",
      "2 ACDEG\n",
      "3 ACDFG\n",
      "4 BCDF\n",
      "5 ABDFG\n",
      "6 ABDEFG\n",
      "7 ACF\n",
      "8 ABCDEFG\n",
      "9 ABCDFG\n"
     ]
    }
   ],
   "source": [
    "correct_patterns = ['ABCEFG', 'CF', 'ACDEG', 'ACDFG', 'BCDF', 'ABDFG', 'ABDEFG', 'ACF', 'ABCDEFG', 'ABCDFG']\n",
    "for i, pattern in enumerate(correct_patterns):\n",
    "    print(i, pattern)"
   ]
  },
  {
   "cell_type": "code",
   "execution_count": 6,
   "id": "caf0d8ce",
   "metadata": {},
   "outputs": [],
   "source": [
    "def count_easy_digits(output_values, correct_patterns):\n",
    "    \"\"\"Number of easy digits (1, 4, 7, or 8) in output values.\"\"\"\n",
    "    easy_digits = (1, 4, 7, 8)\n",
    "    count = 0\n",
    "    for entry in range(len(output_values)):\n",
    "        for value in output_values[entry]:\n",
    "            for easy_digit in (1, 4, 7, 8):\n",
    "                if len(correct_patterns[easy_digit]) == len(value):\n",
    "                    count += 1\n",
    "    print(f'There are {count} instances of digits {easy_digits}.')"
   ]
  },
  {
   "cell_type": "code",
   "execution_count": 7,
   "id": "80a06eb1",
   "metadata": {},
   "outputs": [
    {
     "name": "stdout",
     "output_type": "stream",
     "text": [
      "There are 0 instances of digits (1, 4, 7, 8).\n",
      "There are 26 instances of digits (1, 4, 7, 8).\n",
      "There are 530 instances of digits (1, 4, 7, 8).\n"
     ]
    }
   ],
   "source": [
    "for txt in (short_example_txt, long_example_txt, input_txt):\n",
    "    signal_patterns, output_values = process_input(txt)\n",
    "    count_easy_digits(output_values, correct_patterns)"
   ]
  },
  {
   "cell_type": "markdown",
   "id": "3b12084f",
   "metadata": {},
   "source": [
    "## Part 2"
   ]
  },
  {
   "cell_type": "markdown",
   "id": "97a8d1ad",
   "metadata": {},
   "source": [
    "Use the length of the patterns to disentangle the signal."
   ]
  },
  {
   "cell_type": "code",
   "execution_count": 8,
   "id": "5a07ca7e",
   "metadata": {},
   "outputs": [
    {
     "name": "stdout",
     "output_type": "stream",
     "text": [
      "0 ABCEFG 6\n",
      "1 CF 2\n",
      "2 ACDEG 5\n",
      "3 ACDFG 5\n",
      "4 BCDF 4\n",
      "5 ABDFG 5\n",
      "6 ABDEFG 6\n",
      "7 ACF 3\n",
      "8 ABCDEFG 7\n",
      "9 ABCDFG 6\n"
     ]
    }
   ],
   "source": [
    "for digit, pattern in enumerate(correct_patterns):\n",
    "    print(digit, pattern, len(pattern))"
   ]
  },
  {
   "cell_type": "code",
   "execution_count": 9,
   "id": "d277ec13",
   "metadata": {},
   "outputs": [],
   "source": [
    "def get_incorrect_patterns(patterns):\n",
    "    \"\"\"Returns the seven segments for each digit after the malfunction.\"\"\"\n",
    "    \n",
    "    incorrect_patterns = 10*['']  # placeholder until the patterns are filled\n",
    "    \n",
    "    # First the easy digits that are uniquely identified by the pattern length.\n",
    "    for pattern in patterns:\n",
    "        for digit in (1, 4, 7, 8):\n",
    "            if len(pattern) == len(correct_patterns[digit]):\n",
    "                incorrect_patterns[digit] = pattern        \n",
    "                \n",
    "    # The remaining 6 digits can be divided into 3 with length 5 and 3 with length 6.\n",
    "    # Each set of 3 digits can be assigned by identifying substrings within the pattern.\n",
    "\n",
    "    # There are three patterns of length 6: 0 = ABCEFG, 6 = ABDEFG, 9 = ABCDFG.\n",
    "    for pattern in [p for p in patterns if len(p) == 6]:\n",
    "\n",
    "        if all([char in pattern for char in incorrect_patterns[4]]):\n",
    "            # 4 = BCDF only appears in 9 = ABCDFG, not in 0 = ABCEFG or 6 = ABDEFG\n",
    "            digit = 9\n",
    "\n",
    "        elif all([char in pattern for char in incorrect_patterns[1]]):  # CF\n",
    "            # 1 = CF only appears in 0 = ABCEFG, not in 6 = ABDEFG\n",
    "            digit = 0\n",
    "\n",
    "        else:  # 6 = ABDEFG\n",
    "            digit = 6\n",
    "\n",
    "        incorrect_patterns[digit] = pattern\n",
    "\n",
    "    # There are three patterns of length 5: 2 = ACDEG, 3 = ACDFG, 5 = ABDFG.\n",
    "    for pattern in [p for p in patterns if len(p) == 5]:\n",
    "            \n",
    "        if all([char in pattern for char in incorrect_patterns[1]]):\n",
    "            # 1 = CF only appears in 3 = ACDFG, not 2 = ACDEG or 5 = ABDFG\n",
    "            digit = 3\n",
    "\n",
    "        elif all([char in incorrect_patterns[6] for char in pattern]):\n",
    "            # only 5 = ABDFG (not 2 = ACDEG) appears in 6 = ABDEFG\n",
    "            digit = 5\n",
    "\n",
    "        else:\n",
    "            digit = 2  # 2 = ACDEG\n",
    "\n",
    "        incorrect_patterns[digit] = pattern\n",
    "            \n",
    "    # Sort the patterns into alphabetical order.\n",
    "    for i, pattern in enumerate(incorrect_patterns):\n",
    "        incorrect_patterns[i] = ''.join(sorted(pattern))\n",
    "\n",
    "    return incorrect_patterns"
   ]
  },
  {
   "cell_type": "markdown",
   "id": "36ff64a9",
   "metadata": {},
   "source": [
    "Trivial check that the function works given the correct patterns."
   ]
  },
  {
   "cell_type": "code",
   "execution_count": 10,
   "id": "f3d775b9",
   "metadata": {},
   "outputs": [],
   "source": [
    "assert get_incorrect_patterns(correct_patterns) == correct_patterns"
   ]
  },
  {
   "cell_type": "markdown",
   "id": "c2e22224",
   "metadata": {},
   "source": [
    "Evaulate the sum of output numbers with the short and long examples, then the input text file."
   ]
  },
  {
   "cell_type": "code",
   "execution_count": 11,
   "id": "1029e9e6",
   "metadata": {},
   "outputs": [
    {
     "name": "stdout",
     "output_type": "stream",
     "text": [
      "Sum of four-digit output values is 5353.\n",
      "Sum of four-digit output values is 61229.\n",
      "Sum of four-digit output values is 1051087.\n"
     ]
    }
   ],
   "source": [
    "for txt in (short_example_txt, long_example_txt, input_txt):\n",
    "    output_number = 0\n",
    "    signal_patterns, output_values = process_input(txt)\n",
    "    for i, entry in enumerate(output_values):\n",
    "        output_string = ''\n",
    "        incorrect_patterns = get_incorrect_patterns(signal_patterns[i])\n",
    "        for value in entry:\n",
    "            output_string += str(incorrect_patterns.index(''.join(sorted(value))))\n",
    "        output_number += int(output_string)\n",
    "    print(f'Sum of four-digit output values is {output_number}.')"
   ]
  }
 ],
 "metadata": {
  "kernelspec": {
   "display_name": "Python 3",
   "language": "python",
   "name": "python3"
  },
  "language_info": {
   "codemirror_mode": {
    "name": "ipython",
    "version": 3
   },
   "file_extension": ".py",
   "mimetype": "text/x-python",
   "name": "python",
   "nbconvert_exporter": "python",
   "pygments_lexer": "ipython3",
   "version": "3.6.8"
  }
 },
 "nbformat": 4,
 "nbformat_minor": 5
}
