{
 "cells": [
  {
   "cell_type": "markdown",
   "id": "c7dfd3e7",
   "metadata": {},
   "source": [
    "# Day 10: Syntax Scoring"
   ]
  },
  {
   "cell_type": "markdown",
   "id": "2505e2aa",
   "metadata": {},
   "source": [
    "https://adventofcode.com/2021/day/10"
   ]
  },
  {
   "cell_type": "markdown",
   "id": "4f64366c",
   "metadata": {},
   "source": [
    "## Part 1"
   ]
  },
  {
   "cell_type": "code",
   "execution_count": 1,
   "id": "c9f4f2f1",
   "metadata": {},
   "outputs": [],
   "source": [
    "example_txt = \"\"\"[({(<(())[]>[[{[]{<()<>>\n",
    "[(()[<>])]({[<{<<[]>>(\n",
    "{([(<{}[<>[]}>{[]{[(<()>\n",
    "(((({<>}<{<{<>}{[]{[]{}\n",
    "[[<[([]))<([[{}[[()]]]\n",
    "[{[{({}]{}}([{[{{{}}([]\n",
    "{<[[]]>}<{[{[{[]{()[[[]\n",
    "[<(<(<(<{}))><([]([]()\n",
    "<{([([[(<>()){}]>(<<{{\n",
    "<{([{{}}[<[[[<>{}]]]>[]]\"\"\""
   ]
  },
  {
   "cell_type": "code",
   "execution_count": 2,
   "id": "a26a128c",
   "metadata": {},
   "outputs": [],
   "source": [
    "with open('input.txt') as input_file:\n",
    "    input_txt = input_file.read()"
   ]
  },
  {
   "cell_type": "markdown",
   "id": "ea83d385",
   "metadata": {},
   "source": [
    "Define two dicts mapping a closing symbol to an opening symbol and vice versa."
   ]
  },
  {
   "cell_type": "code",
   "execution_count": 3,
   "id": "89a7ea9e",
   "metadata": {},
   "outputs": [],
   "source": [
    "closing = {'(': ')', '[': ']', '{': '}', '<': '>'}\n",
    "opening = {v: k for k, v in closing.items()}"
   ]
  },
  {
   "cell_type": "code",
   "execution_count": 4,
   "id": "cbf49579",
   "metadata": {},
   "outputs": [],
   "source": [
    "def check_corrupt(line, verbose=False):\n",
    "    \"\"\"Check for a corrupted line and calculate the score.\"\"\"\n",
    "    \n",
    "    corrupted_score = {')': 3, ']': 57, '}': 1197, '>': 25137}\n",
    "    opened = []  # list of unclosed opening characters in the line\n",
    "    \n",
    "    for char in line:\n",
    "        if char in opening.values():  # check for opening character\n",
    "            opened.append(char)  # add to list of unclosed opening characters\n",
    "        elif char in closing.values():  # check for closing character\n",
    "            # Remove the corresponding opening character if last in the list.\n",
    "            if opening[char] == opened[-1]:\n",
    "                opened.pop()\n",
    "            # Otherwise the line is corrupt so we return the score.\n",
    "            else:\n",
    "                if verbose:\n",
    "                    print(f'{line} - Expected {closing[opened[-1]]}, but found {char} instead.')\n",
    "                return corrupted_score[char]\n",
    "\n",
    "    return 0  # line is valid"
   ]
  },
  {
   "cell_type": "markdown",
   "id": "54b94b9b",
   "metadata": {},
   "source": [
    "Check that legal chunks pass the check."
   ]
  },
  {
   "cell_type": "code",
   "execution_count": 5,
   "id": "75c8c0b3",
   "metadata": {},
   "outputs": [
    {
     "name": "stdout",
     "output_type": "stream",
     "text": [
      "Total syntax error score is 0 points.\n"
     ]
    }
   ],
   "source": [
    "legal_chunks = ['()', '[]', '([])', '{()()()}', '<([{}])>', '[<>({}){}[([])<>]]', '(((((((((())))))))))']\n",
    "total_score = 0\n",
    "for chunk in legal_chunks:\n",
    "    total_score += check_corrupt(chunk, verbose=True)\n",
    "print(f'Total syntax error score is {total_score} points.')"
   ]
  },
  {
   "cell_type": "markdown",
   "id": "1e17d223",
   "metadata": {},
   "source": [
    "Now check some examples of corrupted chunks."
   ]
  },
  {
   "cell_type": "code",
   "execution_count": 6,
   "id": "45639eb4",
   "metadata": {},
   "outputs": [
    {
     "name": "stdout",
     "output_type": "stream",
     "text": [
      "(] - Expected ), but found ] instead.\n",
      "{()()()> - Expected }, but found > instead.\n",
      "(((()))} - Expected ), but found } instead.\n",
      "<([]){()}[{}]) - Expected >, but found ) instead.\n",
      "Total syntax error score is 26394 points.\n"
     ]
    }
   ],
   "source": [
    "corrupted_chunks = ['(]', '{()()()>', '(((()))}', '<([]){()}[{}])']\n",
    "total_score = 0\n",
    "for chunk in corrupted_chunks:\n",
    "    total_score += check_corrupt(chunk, verbose=True)\n",
    "print(f'Total syntax error score is {total_score} points.')"
   ]
  },
  {
   "cell_type": "markdown",
   "id": "fcbc5fb4",
   "metadata": {},
   "source": [
    "Test with the example text."
   ]
  },
  {
   "cell_type": "code",
   "execution_count": 7,
   "id": "694a13e8",
   "metadata": {},
   "outputs": [
    {
     "name": "stdout",
     "output_type": "stream",
     "text": [
      "{([(<{}[<>[]}>{[]{[(<()> - Expected ], but found } instead.\n",
      "[[<[([]))<([[{}[[()]]] - Expected ], but found ) instead.\n",
      "[{[{({}]{}}([{[{{{}}([] - Expected ), but found ] instead.\n",
      "[<(<(<(<{}))><([]([]() - Expected >, but found ) instead.\n",
      "<{([([[(<>()){}]>(<<{{ - Expected ], but found > instead.\n",
      "Total syntax error score is 26397 points.\n"
     ]
    }
   ],
   "source": [
    "lines = example_txt.strip().split('\\n')\n",
    "total_score = 0\n",
    "for line in lines:\n",
    "    total_score += check_corrupt(line, verbose=True)\n",
    "print(f'Total syntax error score is {total_score} points.')"
   ]
  },
  {
   "cell_type": "markdown",
   "id": "968b5705",
   "metadata": {},
   "source": [
    "Now get the answer for the input."
   ]
  },
  {
   "cell_type": "code",
   "execution_count": 8,
   "id": "579bc89b",
   "metadata": {},
   "outputs": [
    {
     "name": "stdout",
     "output_type": "stream",
     "text": [
      "Total syntax error score is 294195 points.\n"
     ]
    }
   ],
   "source": [
    "lines = input_txt.strip().split('\\n')\n",
    "total_score = 0\n",
    "for line in lines:\n",
    "    total_score += check_corrupt(line)\n",
    "print(f'Total syntax error score is {total_score} points.')"
   ]
  },
  {
   "cell_type": "markdown",
   "id": "5e0e7b5d",
   "metadata": {},
   "source": [
    "## Part 2"
   ]
  },
  {
   "cell_type": "code",
   "execution_count": 9,
   "id": "4abebd51",
   "metadata": {},
   "outputs": [],
   "source": [
    "def check_incomplete(line, verbose=False):\n",
    "    \"\"\"Check for an incomplete line and calculate the score.\"\"\"\n",
    "\n",
    "    incomplete_score = {')': 1, ']': 2, '}': 3, '>': 4}\n",
    "    opened = []  # list of unclosed opening characters in the line\n",
    "    \n",
    "    for char in line:\n",
    "        if char in opening.values():  # check for opening character\n",
    "            opened.append(char)  # add to list of unclosed opening characters\n",
    "        elif char in closing.values():  # check for closing character\n",
    "            # Remove the corresponding opening character if last in the list.\n",
    "            if opening[char] == opened[-1]:\n",
    "                opened.pop()\n",
    "            else:\n",
    "                return 0  # line is corrupt, not incomplete\n",
    "\n",
    "    if opened:  # check for any unclosed opening characters remaining\n",
    "        closed = []  # list of corresponding closing characters\n",
    "        while opened:\n",
    "            closed.append(closing[opened.pop()])\n",
    "        if verbose:\n",
    "            print(f'{line} - Complete by adding {\"\".join(closed)}.')\n",
    "        score = 0\n",
    "        for char in closed:\n",
    "            score *= 5\n",
    "            score += incomplete_score[char]\n",
    "        if verbose:\n",
    "            print(f'{line} - {score} total points.')\n",
    "        return score\n",
    "    else:\n",
    "        return 0  # line is valid"
   ]
  },
  {
   "cell_type": "markdown",
   "id": "52078bea",
   "metadata": {},
   "source": [
    "Test with the example text."
   ]
  },
  {
   "cell_type": "code",
   "execution_count": 10,
   "id": "baea8ffa",
   "metadata": {},
   "outputs": [
    {
     "name": "stdout",
     "output_type": "stream",
     "text": [
      "[({(<(())[]>[[{[]{<()<>> - Complete by adding }}]])})].\n",
      "[({(<(())[]>[[{[]{<()<>> - 288957 total points.\n",
      "[(()[<>])]({[<{<<[]>>( - Complete by adding )}>]}).\n",
      "[(()[<>])]({[<{<<[]>>( - 5566 total points.\n",
      "(((({<>}<{<{<>}{[]{[]{} - Complete by adding }}>}>)))).\n",
      "(((({<>}<{<{<>}{[]{[]{} - 1480781 total points.\n",
      "{<[[]]>}<{[{[{[]{()[[[] - Complete by adding ]]}}]}]}>.\n",
      "{<[[]]>}<{[{[{[]{()[[[] - 995444 total points.\n",
      "<{([{{}}[<[[[<>{}]]]>[]] - Complete by adding ])}>.\n",
      "<{([{{}}[<[[[<>{}]]]>[]] - 294 total points.\n",
      "Middle score is 288957.\n"
     ]
    }
   ],
   "source": [
    "lines = example_txt.strip().split('\\n')\n",
    "total_scores = []\n",
    "for line in lines:\n",
    "    score = check_incomplete(line, verbose=True)\n",
    "    if score:\n",
    "        total_scores.append(score)\n",
    "total_scores = sorted(total_scores)\n",
    "print(f'Middle score is {total_scores[len(total_scores)//2]}.')"
   ]
  },
  {
   "cell_type": "markdown",
   "id": "3df356ab",
   "metadata": {},
   "source": [
    "Now get the answer for the input."
   ]
  },
  {
   "cell_type": "code",
   "execution_count": 11,
   "id": "922f474e",
   "metadata": {},
   "outputs": [
    {
     "name": "stdout",
     "output_type": "stream",
     "text": [
      "Middle score is 3490802734.\n"
     ]
    }
   ],
   "source": [
    "lines = input_txt.strip().split('\\n')\n",
    "total_scores = []\n",
    "for line in lines:\n",
    "    score = check_incomplete(line)\n",
    "    if score:\n",
    "        total_scores.append(score)\n",
    "total_scores = sorted(total_scores)\n",
    "print(f'Middle score is {total_scores[len(total_scores)//2]}.')"
   ]
  }
 ],
 "metadata": {
  "kernelspec": {
   "display_name": "Python 3",
   "language": "python",
   "name": "python3"
  },
  "language_info": {
   "codemirror_mode": {
    "name": "ipython",
    "version": 3
   },
   "file_extension": ".py",
   "mimetype": "text/x-python",
   "name": "python",
   "nbconvert_exporter": "python",
   "pygments_lexer": "ipython3",
   "version": "3.6.8"
  }
 },
 "nbformat": 4,
 "nbformat_minor": 5
}
