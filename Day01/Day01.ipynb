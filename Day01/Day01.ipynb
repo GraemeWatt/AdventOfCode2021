{
 "cells": [
  {
   "cell_type": "markdown",
   "id": "29b9b238",
   "metadata": {},
   "source": [
    "# Day 1: Sonar Sweep"
   ]
  },
  {
   "cell_type": "markdown",
   "id": "0605883a",
   "metadata": {},
   "source": [
    "https://adventofcode.com/2021/day/1"
   ]
  },
  {
   "cell_type": "markdown",
   "id": "d099150c",
   "metadata": {},
   "source": [
    "## Part 1"
   ]
  },
  {
   "cell_type": "markdown",
   "id": "d40de0a1",
   "metadata": {},
   "source": [
    "First test a solution with the example data."
   ]
  },
  {
   "cell_type": "code",
   "execution_count": 1,
   "id": "a61dcb0c",
   "metadata": {},
   "outputs": [
    {
     "name": "stdout",
     "output_type": "stream",
     "text": [
      "[199, 200, 208, 210, 200, 207, 240, 269, 260, 263]\n"
     ]
    }
   ],
   "source": [
    "example_depths = \"\"\"199\n",
    "200\n",
    "208\n",
    "210\n",
    "200\n",
    "207\n",
    "240\n",
    "269\n",
    "260\n",
    "263\"\"\"\n",
    "example_depths = example_depths.split('\\n')\n",
    "example_depths = list(map(int, example_depths))\n",
    "print(example_depths)"
   ]
  },
  {
   "cell_type": "code",
   "execution_count": 2,
   "id": "bf139f4b",
   "metadata": {},
   "outputs": [],
   "source": [
    "def get_count(depths):\n",
    "    \"\"\"Count the number of times a depth measurement increases.\"\"\"\n",
    "    count = 0\n",
    "    for i, depth in enumerate(depths):\n",
    "        if i > 0 and depths[i] > depths[i-1]:\n",
    "            count += 1\n",
    "    return count"
   ]
  },
  {
   "cell_type": "markdown",
   "id": "6809c4e3",
   "metadata": {},
   "source": [
    "How many measurements are larger than the previous measurement?"
   ]
  },
  {
   "cell_type": "code",
   "execution_count": 3,
   "id": "ae5603c2",
   "metadata": {},
   "outputs": [
    {
     "name": "stdout",
     "output_type": "stream",
     "text": [
      "7\n"
     ]
    }
   ],
   "source": [
    "print(get_count(example_depths))"
   ]
  },
  {
   "cell_type": "markdown",
   "id": "b9307e6e",
   "metadata": {},
   "source": [
    "Now repeat with the input data."
   ]
  },
  {
   "cell_type": "code",
   "execution_count": 4,
   "id": "44756eaa",
   "metadata": {},
   "outputs": [
    {
     "name": "stdout",
     "output_type": "stream",
     "text": [
      "Read 2000 lines.\n"
     ]
    }
   ],
   "source": [
    "with open('input.txt') as input:\n",
    "    input_depths = input.readlines()\n",
    "    input_depths = [depth.rstrip() for depth in input_depths]\n",
    "print(f'Read {len(input_depths)} lines.')\n",
    "input_depths = list(map(int, input_depths))"
   ]
  },
  {
   "cell_type": "code",
   "execution_count": 5,
   "id": "99d01a8d",
   "metadata": {},
   "outputs": [
    {
     "name": "stdout",
     "output_type": "stream",
     "text": [
      "1722\n"
     ]
    }
   ],
   "source": [
    "print(get_count(input_depths))"
   ]
  },
  {
   "cell_type": "markdown",
   "id": "17d10224",
   "metadata": {},
   "source": [
    "## Part 2"
   ]
  },
  {
   "cell_type": "code",
   "execution_count": 6,
   "id": "98cecd1a",
   "metadata": {},
   "outputs": [],
   "source": [
    "def get_windows(depths):\n",
    "    \"\"\"Consider sums of a three-measurement sliding window.\"\"\"\n",
    "    windows = []\n",
    "    for i, depth in enumerate(depths[0:-2]):\n",
    "        windows.append(depths[i]+depths[i+1]+depths[i+2])\n",
    "    return windows"
   ]
  },
  {
   "cell_type": "markdown",
   "id": "2f3f639e",
   "metadata": {},
   "source": [
    "Test the solution with the example data.  How many sums are larger than the previous sum?"
   ]
  },
  {
   "cell_type": "code",
   "execution_count": 7,
   "id": "bd2a807b",
   "metadata": {},
   "outputs": [
    {
     "name": "stdout",
     "output_type": "stream",
     "text": [
      "5\n"
     ]
    }
   ],
   "source": [
    "example_windows = get_windows(example_depths)\n",
    "print(get_count(example_windows))"
   ]
  },
  {
   "cell_type": "markdown",
   "id": "41cd142d",
   "metadata": {},
   "source": [
    "Now repeat with the input data."
   ]
  },
  {
   "cell_type": "code",
   "execution_count": 8,
   "id": "60e7571f",
   "metadata": {},
   "outputs": [
    {
     "name": "stdout",
     "output_type": "stream",
     "text": [
      "1748\n"
     ]
    }
   ],
   "source": [
    "input_windows = get_windows(input_depths)\n",
    "print(get_count(input_windows))"
   ]
  }
 ],
 "metadata": {
  "kernelspec": {
   "display_name": "Python 3",
   "language": "python",
   "name": "python3"
  },
  "language_info": {
   "codemirror_mode": {
    "name": "ipython",
    "version": 3
   },
   "file_extension": ".py",
   "mimetype": "text/x-python",
   "name": "python",
   "nbconvert_exporter": "python",
   "pygments_lexer": "ipython3",
   "version": "3.6.8"
  }
 },
 "nbformat": 4,
 "nbformat_minor": 5
}
