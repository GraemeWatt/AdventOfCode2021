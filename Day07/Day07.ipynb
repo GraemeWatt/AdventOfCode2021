{
 "cells": [
  {
   "cell_type": "markdown",
   "id": "3820f7dc",
   "metadata": {},
   "source": [
    "# Day 7: The Treachery of Whales"
   ]
  },
  {
   "cell_type": "markdown",
   "id": "bb4ad06c",
   "metadata": {},
   "source": [
    "https://adventofcode.com/2021/day/7"
   ]
  },
  {
   "cell_type": "markdown",
   "id": "67072649",
   "metadata": {},
   "source": [
    "## Part 1"
   ]
  },
  {
   "cell_type": "code",
   "execution_count": 1,
   "id": "59677224",
   "metadata": {},
   "outputs": [],
   "source": [
    "def determine_position(txt, fuel_func):\n",
    "    \"\"\"Determine the horizontal position that uses the least fuel.\"\"\"\n",
    "    positions = list(map(int, txt.strip().split(',')))\n",
    "    for guess in range(min(positions), max(positions) + 1):\n",
    "        guess_fuel = 0\n",
    "        for position in positions:\n",
    "            distance = abs(position - guess)\n",
    "            guess_fuel += fuel_func(distance)\n",
    "        if guess == min(positions) or guess_fuel < min_fuel:\n",
    "            best_position = guess\n",
    "            min_fuel = guess_fuel\n",
    "    print(f'Best position is {best_position} with fuel {int(min_fuel)}.')"
   ]
  },
  {
   "cell_type": "markdown",
   "id": "f71e13d3",
   "metadata": {},
   "source": [
    "Test with the example.  The second argument gives the fuel as a function of distance."
   ]
  },
  {
   "cell_type": "code",
   "execution_count": 2,
   "id": "793cc124",
   "metadata": {},
   "outputs": [
    {
     "name": "stdout",
     "output_type": "stream",
     "text": [
      "Best position is 2 with fuel 37.\n"
     ]
    }
   ],
   "source": [
    "example_txt = '16,1,2,0,4,2,7,1,2,14'\n",
    "determine_position(example_txt, lambda n : n)"
   ]
  },
  {
   "cell_type": "markdown",
   "id": "3000f3da",
   "metadata": {},
   "source": [
    "Now repeat with the input."
   ]
  },
  {
   "cell_type": "code",
   "execution_count": 3,
   "id": "54a55756",
   "metadata": {},
   "outputs": [
    {
     "name": "stdout",
     "output_type": "stream",
     "text": [
      "Best position is 354 with fuel 342730.\n"
     ]
    }
   ],
   "source": [
    "with open('input.txt') as input_file:\n",
    "    input_txt = input_file.read()\n",
    "determine_position(input_txt, lambda n : n)"
   ]
  },
  {
   "cell_type": "markdown",
   "id": "41d32153",
   "metadata": {},
   "source": [
    "## Part 2"
   ]
  },
  {
   "cell_type": "markdown",
   "id": "7a35af30",
   "metadata": {},
   "source": [
    "Here the key insight is to use the analytical formula ([Wikipedia](https://en.wikipedia.org/wiki/1_%2B_2_%2B_3_%2B_4_%2B_⋯)) for the fuel as a function of distance:\n",
    "\n",
    "$$\\sum_{k=1}^n k = \\frac{n(n+1)}{2}.$$\n",
    "\n",
    "Trying to evaluate this sum numerically would lead to very long run times."
   ]
  },
  {
   "cell_type": "code",
   "execution_count": 4,
   "id": "2cc8f218",
   "metadata": {},
   "outputs": [
    {
     "name": "stdout",
     "output_type": "stream",
     "text": [
      "Best position is 5 with fuel 168.\n"
     ]
    }
   ],
   "source": [
    "determine_position(example_txt, lambda n : n*(n+1)/2)"
   ]
  },
  {
   "cell_type": "code",
   "execution_count": 5,
   "id": "75828443",
   "metadata": {},
   "outputs": [
    {
     "name": "stdout",
     "output_type": "stream",
     "text": [
      "Best position is 476 with fuel 92335207.\n"
     ]
    }
   ],
   "source": [
    "determine_position(input_txt, lambda n : n*(n+1)/2)"
   ]
  }
 ],
 "metadata": {
  "kernelspec": {
   "display_name": "Python 3",
   "language": "python",
   "name": "python3"
  },
  "language_info": {
   "codemirror_mode": {
    "name": "ipython",
    "version": 3
   },
   "file_extension": ".py",
   "mimetype": "text/x-python",
   "name": "python",
   "nbconvert_exporter": "python",
   "pygments_lexer": "ipython3",
   "version": "3.6.8"
  }
 },
 "nbformat": 4,
 "nbformat_minor": 5
}
