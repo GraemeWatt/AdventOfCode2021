{
 "cells": [
  {
   "cell_type": "markdown",
   "id": "0e1d3595",
   "metadata": {},
   "source": [
    "# Day 14: Extended Polymerization"
   ]
  },
  {
   "cell_type": "markdown",
   "id": "eacdb73c",
   "metadata": {},
   "source": [
    "https://adventofcode.com/2021/day/14"
   ]
  },
  {
   "cell_type": "code",
   "execution_count": 1,
   "id": "ef991909",
   "metadata": {},
   "outputs": [],
   "source": [
    "example_txt = \"\"\"NNCB\n",
    "\n",
    "CH -> B\n",
    "HH -> N\n",
    "CB -> H\n",
    "NH -> C\n",
    "HB -> C\n",
    "HC -> B\n",
    "HN -> C\n",
    "NN -> C\n",
    "BH -> H\n",
    "NC -> B\n",
    "NB -> B\n",
    "BN -> B\n",
    "BB -> N\n",
    "BC -> B\n",
    "CC -> N\n",
    "CN -> C\"\"\""
   ]
  },
  {
   "cell_type": "code",
   "execution_count": 2,
   "id": "ba0ef67b",
   "metadata": {},
   "outputs": [],
   "source": [
    "with open('input.txt') as input_file:\n",
    "    input_txt = input_file.read()"
   ]
  },
  {
   "cell_type": "code",
   "execution_count": 3,
   "id": "da7e8b9d",
   "metadata": {},
   "outputs": [],
   "source": [
    "def process_input(txt, lower=False):\n",
    "    \"\"\"Get the starting template and the pair insertion rules.\"\"\"\n",
    "    txt = txt.strip().split('\\n\\n')\n",
    "    template = txt[0]\n",
    "    rules = {}\n",
    "    for line in txt[1].split('\\n'):\n",
    "        pair, insertion = line.split(' -> ')\n",
    "        rules[pair] = pair[0] + (insertion.lower() if lower else insertion) + pair[1]\n",
    "    return template, rules"
   ]
  },
  {
   "cell_type": "markdown",
   "id": "57c0db40",
   "metadata": {},
   "source": [
    "## Part 1"
   ]
  },
  {
   "cell_type": "code",
   "execution_count": 4,
   "id": "21601fa6",
   "metadata": {},
   "outputs": [],
   "source": [
    "def replace_step(template, rules):\n",
    "    \"\"\"Apply rules using simple replacements until there are no matches.\"\"\"\n",
    "    while any(pair in template for pair in rules.keys()):\n",
    "        for pair in rules.keys():\n",
    "            if pair in template:\n",
    "                template = template.replace(pair, rules[pair])\n",
    "    template = template.upper()  # convert insertion to upper case\n",
    "    return template"
   ]
  },
  {
   "cell_type": "code",
   "execution_count": 5,
   "id": "97db3e50",
   "metadata": {},
   "outputs": [
    {
     "name": "stdout",
     "output_type": "stream",
     "text": [
      "Step 1: 1.\n",
      "Step 2: 5.\n",
      "Step 3: 7.\n",
      "Step 4: 18.\n",
      "Step 5: 33.\n",
      "Step 6: 82.\n",
      "Step 7: 160.\n",
      "Step 8: 366.\n",
      "Step 9: 727.\n",
      "Step 10: 1588.\n",
      "\n",
      "Step 1: 8.\n",
      "Step 2: 14.\n",
      "Step 3: 23.\n",
      "Step 4: 48.\n",
      "Step 5: 99.\n",
      "Step 6: 191.\n",
      "Step 7: 389.\n",
      "Step 8: 793.\n",
      "Step 9: 1643.\n",
      "Step 10: 3342.\n",
      "\n",
      "CPU times: user 28.2 ms, sys: 4.2 ms, total: 32.4 ms\n",
      "Wall time: 39.2 ms\n"
     ]
    }
   ],
   "source": [
    "%%time\n",
    "for txt in (example_txt, input_txt):\n",
    "    template, rules = process_input(txt, lower=True)\n",
    "    for s in range(10):\n",
    "        template = replace_step(template, rules)\n",
    "        counts = [template.count(element) for element in set(template)]\n",
    "        print(f'Step {s+1}: {max(counts) - min(counts)}.')\n",
    "    print()"
   ]
  },
  {
   "cell_type": "markdown",
   "id": "79197e60",
   "metadata": {},
   "source": [
    "The above solution doesn't scale for the 40 steps required in Part 2.  Try a modification using a regex."
   ]
  },
  {
   "cell_type": "code",
   "execution_count": 6,
   "id": "a3f250aa",
   "metadata": {},
   "outputs": [],
   "source": [
    "import re\n",
    "def regex_step(template, rules):\n",
    "    \"\"\"Apply rules using a regex until there are no matches.\"\"\"\n",
    "    pattern = re.compile('|'.join(rules.keys()))\n",
    "    while any(pair in template for pair in rules.keys()):\n",
    "        template = pattern.sub(lambda m : rules[m.group(0)], template)\n",
    "    template = template.upper()  # convert insertion to upper case\n",
    "    return template"
   ]
  },
  {
   "cell_type": "code",
   "execution_count": 7,
   "id": "10d13716",
   "metadata": {},
   "outputs": [
    {
     "name": "stdout",
     "output_type": "stream",
     "text": [
      "Step 1: 1.\n",
      "Step 2: 5.\n",
      "Step 3: 7.\n",
      "Step 4: 18.\n",
      "Step 5: 33.\n",
      "Step 6: 82.\n",
      "Step 7: 160.\n",
      "Step 8: 366.\n",
      "Step 9: 727.\n",
      "Step 10: 1588.\n",
      "\n",
      "Step 1: 8.\n",
      "Step 2: 14.\n",
      "Step 3: 23.\n",
      "Step 4: 48.\n",
      "Step 5: 99.\n",
      "Step 6: 191.\n",
      "Step 7: 389.\n",
      "Step 8: 793.\n",
      "Step 9: 1643.\n",
      "Step 10: 3342.\n",
      "\n",
      "CPU times: user 34.7 ms, sys: 5.15 ms, total: 39.8 ms\n",
      "Wall time: 50.7 ms\n"
     ]
    }
   ],
   "source": [
    "%%time\n",
    "for txt in (example_txt, input_txt):\n",
    "    template, rules = process_input(txt, lower=True)\n",
    "    for s in range(10):\n",
    "        template = regex_step(template, rules)\n",
    "        counts = [template.count(element) for element in set(template)]\n",
    "        print(f'Step {s+1}: {max(counts) - min(counts)}.')\n",
    "    print()"
   ]
  },
  {
   "cell_type": "markdown",
   "id": "a7171dfa",
   "metadata": {},
   "source": [
    "This takes longer than the first simpler solution.  We need to consider a different approach for Part 2."
   ]
  },
  {
   "cell_type": "markdown",
   "id": "e0a91423",
   "metadata": {},
   "source": [
    "## Part 2"
   ]
  },
  {
   "cell_type": "markdown",
   "id": "e541baed",
   "metadata": {},
   "source": [
    "A more efficient solution can be found by only storing counts of each pair and each element instead of the full template."
   ]
  },
  {
   "cell_type": "code",
   "execution_count": 8,
   "id": "0e5a5b40",
   "metadata": {},
   "outputs": [],
   "source": [
    "def get_counts(template, rules):\n",
    "    \"\"\"Get the counts for each pair and each element in a template.\"\"\"\n",
    "    elements = set(''.join([key for key in rules.keys()]))\n",
    "    pair_counts, element_counts = {}, {}\n",
    "    for key in rules.keys():\n",
    "        pair_counts[key] = template.count(key)\n",
    "    for element in elements:\n",
    "        element_counts[element] = template.count(element)\n",
    "    return pair_counts, element_counts"
   ]
  },
  {
   "cell_type": "code",
   "execution_count": 9,
   "id": "d30886f5",
   "metadata": {},
   "outputs": [],
   "source": [
    "def count_step(pair_counts, element_counts, rules):\n",
    "    \"\"\"Evaluate the new counts after a pair insertion step.\"\"\"\n",
    "    new_pair_counts = pair_counts.copy()\n",
    "    for key, value in rules.items():  # comments below for a pair insertion rule AB -> C\n",
    "        new_pair_counts[key] -= pair_counts[key]  # decrease the replaced pair (AB)\n",
    "        new_pair_counts[value[:2]] += pair_counts[key]  # increase the new left pair (AC)\n",
    "        new_pair_counts[value[1:]] += pair_counts[key]  # increase the new right pair (CB)\n",
    "        element_counts[value[1]] += pair_counts[key]  # increase the middle element (C)\n",
    "    return new_pair_counts, element_counts"
   ]
  },
  {
   "cell_type": "code",
   "execution_count": 10,
   "id": "47c3964b",
   "metadata": {},
   "outputs": [
    {
     "name": "stdout",
     "output_type": "stream",
     "text": [
      "Step 1: 1.\n",
      "Step 2: 5.\n",
      "Step 3: 7.\n",
      "Step 4: 18.\n",
      "Step 5: 33.\n",
      "Step 6: 82.\n",
      "Step 7: 160.\n",
      "Step 8: 366.\n",
      "Step 9: 727.\n",
      "Step 10: 1588.\n",
      "Step 11: 3182.\n",
      "Step 12: 6750.\n",
      "Step 13: 13573.\n",
      "Step 14: 28261.\n",
      "Step 15: 56892.\n",
      "Step 16: 117020.\n",
      "Step 17: 235560.\n",
      "Step 18: 480563.\n",
      "Step 19: 966805.\n",
      "Step 20: 1961318.\n",
      "Step 21: 3942739.\n",
      "Step 22: 7967209.\n",
      "Step 23: 16003172.\n",
      "Step 24: 32248617.\n",
      "Step 25: 64726890.\n",
      "Step 26: 130175202.\n",
      "Step 27: 261104572.\n",
      "Step 28: 524366212.\n",
      "Step 29: 1051177797.\n",
      "Step 30: 2108829309.\n",
      "Step 31: 4225510980.\n",
      "Step 32: 8470515455.\n",
      "Step 33: 16966054976.\n",
      "Step 34: 33990982425.\n",
      "Step 35: 68061233152.\n",
      "Step 36: 136300733814.\n",
      "Step 37: 272851352872.\n",
      "Step 38: 546243749493.\n",
      "Step 39: 1093272152977.\n",
      "Step 40: 2188189693529.\n",
      "\n",
      "Step 1: 8.\n",
      "Step 2: 14.\n",
      "Step 3: 23.\n",
      "Step 4: 48.\n",
      "Step 5: 99.\n",
      "Step 6: 191.\n",
      "Step 7: 389.\n",
      "Step 8: 793.\n",
      "Step 9: 1643.\n",
      "Step 10: 3342.\n",
      "Step 11: 6820.\n",
      "Step 12: 13818.\n",
      "Step 13: 27915.\n",
      "Step 14: 56273.\n",
      "Step 15: 113290.\n",
      "Step 16: 227539.\n",
      "Step 17: 456575.\n",
      "Step 18: 914812.\n",
      "Step 19: 1831507.\n",
      "Step 20: 3663959.\n",
      "Step 21: 7325161.\n",
      "Step 22: 14638560.\n",
      "Step 23: 29244889.\n",
      "Step 24: 58413768.\n",
      "Step 25: 116664686.\n",
      "Step 26: 232996051.\n",
      "Step 27: 465338514.\n",
      "Step 28: 929427477.\n",
      "Step 29: 1856523058.\n",
      "Step 30: 3708780570.\n",
      "Step 31: 7409887019.\n",
      "Step 32: 14806208626.\n",
      "Step 33: 29588774697.\n",
      "Step 34: 59137059161.\n",
      "Step 35: 118205792898.\n",
      "Step 36: 236298453860.\n",
      "Step 37: 472412933028.\n",
      "Step 38: 944533645921.\n",
      "Step 39: 1888614892859.\n",
      "Step 40: 3776553567525.\n",
      "\n",
      "CPU times: user 15.3 ms, sys: 6.11 ms, total: 21.4 ms\n",
      "Wall time: 20.3 ms\n"
     ]
    }
   ],
   "source": [
    "%%time\n",
    "for txt in (example_txt, input_txt):\n",
    "    template, rules = process_input(txt)\n",
    "    pair_counts, element_counts = get_counts(template, rules)\n",
    "    for s in range(40):\n",
    "        pair_counts, element_counts = count_step(pair_counts, element_counts, rules)\n",
    "        counts = [template.count(element) for element in set(template)]\n",
    "        print(f'Step {s+1}: {max(element_counts.values()) - min(element_counts.values())}.')\n",
    "    print()"
   ]
  }
 ],
 "metadata": {
  "kernelspec": {
   "display_name": "Python 3",
   "language": "python",
   "name": "python3"
  },
  "language_info": {
   "codemirror_mode": {
    "name": "ipython",
    "version": 3
   },
   "file_extension": ".py",
   "mimetype": "text/x-python",
   "name": "python",
   "nbconvert_exporter": "python",
   "pygments_lexer": "ipython3",
   "version": "3.6.8"
  }
 },
 "nbformat": 4,
 "nbformat_minor": 5
}
