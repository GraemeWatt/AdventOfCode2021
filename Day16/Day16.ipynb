{
 "cells": [
  {
   "cell_type": "markdown",
   "id": "bb823ddc",
   "metadata": {},
   "source": [
    "# Day 16: Packet Decoder"
   ]
  },
  {
   "cell_type": "markdown",
   "id": "009077aa",
   "metadata": {},
   "source": [
    "https://adventofcode.com/2021/day/16"
   ]
  },
  {
   "cell_type": "code",
   "execution_count": 1,
   "id": "d49b3910",
   "metadata": {},
   "outputs": [],
   "source": [
    "def get_packet(txt):\n",
    "    \"\"\"Convert the hexadecimal representation into binary.\"\"\"\n",
    "    packet = bin(int('0x' + txt, base=16))[2:].zfill(len(txt)*4)\n",
    "    return packet"
   ]
  },
  {
   "cell_type": "code",
   "execution_count": 2,
   "id": "5e5ef55f",
   "metadata": {},
   "outputs": [],
   "source": [
    "def parse_packet(packet, version_sum=0):\n",
    "    \"\"\"Parse a packet, calculate the version sum and apply rules.\"\"\"\n",
    "    packet_version = int(packet[0:3], base=2)\n",
    "    version_sum += packet_version\n",
    "    packet_type = int(packet[3:6], base=2)\n",
    "    if packet_type == 4:  # literal value\n",
    "        groups = [packet[6:][i*5:i*5+5] for i in range(1+len(packet[6:])//5)]\n",
    "        number = ''\n",
    "        for i, group in enumerate(groups):\n",
    "            number += group[1:5]\n",
    "            if group[0] == '0':\n",
    "                packet_length = 6 + i*5+5\n",
    "                packet = packet[packet_length:]  # remove processed part of packet\n",
    "                break  # last group\n",
    "        number = int(number, base=2)\n",
    "    else:  # operator\n",
    "        length_type_id = packet[6]\n",
    "        numbers = []  # store literal values of sub-packets\n",
    "        if length_type_id == '0':\n",
    "            # If the length type ID is 0, then the next 15 bits are a number that represents\n",
    "            # the total length in bits of the sub-packets contained by this packet.\n",
    "            subpackets_length = int(packet[7:7+15], base=2)\n",
    "            packet = packet[7+15:]  # remove processed part of packet\n",
    "            length_subpackets = 0\n",
    "            while length_subpackets < subpackets_length:\n",
    "                length_subpackets += len(packet)\n",
    "                packet, version_sum, number = parse_packet(packet, version_sum)  # call recursively\n",
    "                length_subpackets -= len(packet)\n",
    "                numbers.append(number)\n",
    "        else:\n",
    "            # If the length type ID is 1, then the next 11 bits are a number that represents\n",
    "            # the number of sub-packets immediately contained by this packet.\n",
    "            subpackets_number = int(packet[7:7+11], base=2)\n",
    "            packet = packet[7+11:]  # remove processed part of packet\n",
    "            number_subpackets = 0\n",
    "            while number_subpackets < subpackets_number:\n",
    "                packet, version_sum, number = parse_packet(packet, version_sum)  # call recursively\n",
    "                number_subpackets += 1\n",
    "                numbers.append(number)\n",
    "        number = apply_rules(packet_type, numbers)  # apply rule to literal values of sub-packets\n",
    "    return packet, version_sum, number"
   ]
  },
  {
   "cell_type": "code",
   "execution_count": 3,
   "id": "1d474d2e",
   "metadata": {},
   "outputs": [],
   "source": [
    "def apply_rules(packet_type, numbers):\n",
    "    \"\"\"Apply the relevant rule for the packet type ID.\"\"\"\n",
    "    if packet_type == 0:  # sum packet\n",
    "        number = sum(numbers)\n",
    "    elif packet_type == 1:  # product packet\n",
    "        number = 1\n",
    "        for n in numbers:\n",
    "            number *= n\n",
    "    elif packet_type == 2:  # minimum packet\n",
    "        number = min(numbers)\n",
    "    elif packet_type == 3:  # maximum packet\n",
    "        number = max(numbers)\n",
    "    elif packet_type == 5:  # greater than packet\n",
    "        number = int(numbers[0] > numbers[1])\n",
    "    elif packet_type == 6:  # less than packet\n",
    "        number = int(numbers[0] < numbers[1])\n",
    "    elif packet_type == 7:  # equal to packet\n",
    "        number = int(numbers[0] == numbers[1])\n",
    "    return number"
   ]
  },
  {
   "cell_type": "code",
   "execution_count": 4,
   "id": "26397ce6",
   "metadata": {},
   "outputs": [],
   "source": [
    "part1_examples = ['D2FE28', '38006F45291200', 'EE00D40C823060', '8A004A801A8002F478',\n",
    "                  '620080001611562C8802118E34', 'C0015000016115A2E0802F182340',\n",
    "                  'A0016C880162017C3686B18A3D4780']"
   ]
  },
  {
   "cell_type": "code",
   "execution_count": 5,
   "id": "b04d51ad",
   "metadata": {},
   "outputs": [],
   "source": [
    "part2_examples = ['C200B40A82', '04005AC33890', '880086C3E88112', 'CE00C43D881120', 'D8005AC2A8F0',\n",
    "                  'F600BC2D8F', '9C005AC2F8F0', '9C0141080250320F1802104A08']"
   ]
  },
  {
   "cell_type": "code",
   "execution_count": 6,
   "id": "3e87890d",
   "metadata": {},
   "outputs": [],
   "source": [
    "with open('input.txt') as input_file:\n",
    "    input_txt = input_file.read().strip()"
   ]
  },
  {
   "cell_type": "markdown",
   "id": "86a81e95",
   "metadata": {},
   "source": [
    "Check the code gives the correct answers for the examples then run it on the input text."
   ]
  },
  {
   "cell_type": "code",
   "execution_count": 7,
   "id": "7bcbc75c",
   "metadata": {},
   "outputs": [
    {
     "name": "stdout",
     "output_type": "stream",
     "text": [
      "D2FE28\n",
      "Version sum is 6 and answer is 2021.\n",
      "\n",
      "38006F45291200\n",
      "Version sum is 9 and answer is 1.\n",
      "\n",
      "EE00D40C823060\n",
      "Version sum is 14 and answer is 3.\n",
      "\n",
      "8A004A801A8002F478\n",
      "Version sum is 16 and answer is 15.\n",
      "\n",
      "620080001611562C8802118E34\n",
      "Version sum is 12 and answer is 46.\n",
      "\n",
      "C0015000016115A2E0802F182340\n",
      "Version sum is 23 and answer is 46.\n",
      "\n",
      "A0016C880162017C3686B18A3D4780\n",
      "Version sum is 31 and answer is 54.\n",
      "\n",
      "C200B40A82\n",
      "Version sum is 14 and answer is 3.\n",
      "\n",
      "04005AC33890\n",
      "Version sum is 8 and answer is 54.\n",
      "\n",
      "880086C3E88112\n",
      "Version sum is 15 and answer is 7.\n",
      "\n",
      "CE00C43D881120\n",
      "Version sum is 11 and answer is 9.\n",
      "\n",
      "D8005AC2A8F0\n",
      "Version sum is 13 and answer is 1.\n",
      "\n",
      "F600BC2D8F\n",
      "Version sum is 19 and answer is 0.\n",
      "\n",
      "9C005AC2F8F0\n",
      "Version sum is 16 and answer is 0.\n",
      "\n",
      "9C0141080250320F1802104A08\n",
      "Version sum is 20 and answer is 1.\n",
      "\n",
      "220D4B80491FE6FBDCDA61F23F1D9B763004A7C128012F9DA88CE27B000B30F4804D49CD515380352100763DC5E8EC000844338B10B667A1E60094B7BE8D600ACE774DF39DD364979F67A9AC0D1802B2A41401354F6BF1DC0627B15EC5CCC01694F5BABFC00964E93C95CF080263F0046741A740A76B704300824926693274BE7CC880267D00464852484A5F74520005D65A1EAD2334A700BA4EA41256E4BBBD8DC0999FC3A97286C20164B4FF14A93FD2947494E683E752E49B2737DF7C4080181973496509A5B9A8D37B7C300434016920D9EAEF16AEC0A4AB7DF5B1C01C933B9AAF19E1818027A00A80021F1FA0E43400043E174638572B984B066401D3E802735A4A9ECE371789685AB3E0E800725333EFFBB4B8D131A9F39ED413A1720058F339EE32052D48EC4E5EC3A6006CC2B4BE6FF3F40017A0E4D522226009CA676A7600980021F1921446700042A23C368B713CC015E007324A38DF30BB30533D001200F3E7AC33A00A4F73149558E7B98A4AACC402660803D1EA1045C1006E2CC668EC200F4568A5104802B7D004A53819327531FE607E118803B260F371D02CAEA3486050004EE3006A1E463858600F46D8531E08010987B1BE251002013445345C600B4F67617400D14F61867B39AA38018F8C05E430163C6004980126005B801CC0417080106005000CB4002D7A801AA0062007BC0019608018A004A002B880057CEF5604016827238DFDCC8048B9AF135802400087C32893120401C8D90463E280513D62991EE5CA543A6B75892CB639D503004F00353100662FC498AA00084C6485B1D25044C0139975D004A5EB5E52AC7233294006867F9EE6BA2115E47D7867458401424E354B36CDAFCAB34CBC2008BF2F2BA5CC646E57D4C62E41279E7F37961ACC015B005A5EFF884CBDFF10F9BFF438C014A007D67AE0529DED3901D9CD50B5C0108B13BAFD6070\n",
      "Version sum is 977 and answer is 101501020883.\n",
      "\n"
     ]
    }
   ],
   "source": [
    "for txt in part1_examples + part2_examples + [input_txt]:\n",
    "    print(txt)\n",
    "    packet = get_packet(txt)\n",
    "    remaining_packet, version_sum, number = parse_packet(packet)\n",
    "    print(f'Version sum is {version_sum} and answer is {number}.\\n')"
   ]
  }
 ],
 "metadata": {
  "kernelspec": {
   "display_name": "Python 3 (ipykernel)",
   "language": "python",
   "name": "python3"
  },
  "language_info": {
   "codemirror_mode": {
    "name": "ipython",
    "version": 3
   },
   "file_extension": ".py",
   "mimetype": "text/x-python",
   "name": "python",
   "nbconvert_exporter": "python",
   "pygments_lexer": "ipython3",
   "version": "3.8.2"
  }
 },
 "nbformat": 4,
 "nbformat_minor": 5
}
