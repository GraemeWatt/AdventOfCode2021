{
 "cells": [
  {
   "cell_type": "markdown",
   "id": "7cb90ac7",
   "metadata": {},
   "source": [
    "# Day 3: Binary Diagnostic"
   ]
  },
  {
   "cell_type": "markdown",
   "id": "1bd28f4a",
   "metadata": {},
   "source": [
    "https://adventofcode.com/2021/day/3"
   ]
  },
  {
   "cell_type": "markdown",
   "id": "b735489b",
   "metadata": {},
   "source": [
    "## Part 1"
   ]
  },
  {
   "cell_type": "code",
   "execution_count": 1,
   "id": "a40d122d",
   "metadata": {},
   "outputs": [],
   "source": [
    "def calculate_power(report):\n",
    "    \"\"\"Calculate the power (= gamma*epsilon) given a diagnostic report.\"\"\"\n",
    "    \n",
    "    gamma = epsilon = ''\n",
    "    num_bits = len(report[0])\n",
    "\n",
    "    for j in range(num_bits):\n",
    "        \n",
    "        # Check that each number in the report has same number of bits.\n",
    "        assert len(report[j]) == num_bits\n",
    "        \n",
    "        bits = [report[i][j] for i in range(len(report))]\n",
    "        \n",
    "        # Check that there are not the same number of '0' and '1' bits.\n",
    "        assert bits.count('0') != bits.count('1')\n",
    "        \n",
    "        # Assign gamma and epsilon rates.\n",
    "        if bits.count('0') > bits.count('1'):\n",
    "            gamma += '0'  # most common bit\n",
    "            epsilon += '1'  # least common bit\n",
    "        else:\n",
    "            gamma += '1'  # most common bit\n",
    "            epsilon += '0'  # least common bit\n",
    "            \n",
    "    # Convert from binary to decimal.\n",
    "    gamma = int(gamma, base=2)\n",
    "    epsilon = int(epsilon, base=2)\n",
    "    \n",
    "    # Power consumption.\n",
    "    power = gamma * epsilon\n",
    "    \n",
    "    print(f'gamma = {gamma}, epsilon = {epsilon}, power = {power}')"
   ]
  },
  {
   "cell_type": "markdown",
   "id": "6263d751",
   "metadata": {},
   "source": [
    "Test the solution with the example report."
   ]
  },
  {
   "cell_type": "code",
   "execution_count": 2,
   "id": "6f2cfd44",
   "metadata": {},
   "outputs": [],
   "source": [
    "example_report = \"\"\"00100\n",
    "11110\n",
    "10110\n",
    "10111\n",
    "10101\n",
    "01111\n",
    "00111\n",
    "11100\n",
    "10000\n",
    "11001\n",
    "00010\n",
    "01010\"\"\"\n",
    "example_report = example_report.split()"
   ]
  },
  {
   "cell_type": "code",
   "execution_count": 3,
   "id": "f41d4e33",
   "metadata": {},
   "outputs": [
    {
     "name": "stdout",
     "output_type": "stream",
     "text": [
      "gamma = 22, epsilon = 9, power = 198\n"
     ]
    }
   ],
   "source": [
    "calculate_power(example_report)"
   ]
  },
  {
   "cell_type": "markdown",
   "id": "563431b5",
   "metadata": {},
   "source": [
    "Now repeat with the input report."
   ]
  },
  {
   "cell_type": "code",
   "execution_count": 4,
   "id": "583c4b8b",
   "metadata": {},
   "outputs": [
    {
     "name": "stdout",
     "output_type": "stream",
     "text": [
      "Read 1000 lines.\n"
     ]
    }
   ],
   "source": [
    "with open('input.txt') as input_txt:\n",
    "    input_report = input_txt.readlines()\n",
    "    input_report = [number.rstrip() for number in input_report]\n",
    "print(f'Read {len(input_report)} lines.')"
   ]
  },
  {
   "cell_type": "code",
   "execution_count": 5,
   "id": "3149f714",
   "metadata": {},
   "outputs": [
    {
     "name": "stdout",
     "output_type": "stream",
     "text": [
      "gamma = 1508, epsilon = 2587, power = 3901196\n"
     ]
    }
   ],
   "source": [
    "calculate_power(input_report)"
   ]
  },
  {
   "cell_type": "markdown",
   "id": "a668456a",
   "metadata": {},
   "source": [
    "## Part 2"
   ]
  },
  {
   "cell_type": "code",
   "execution_count": 6,
   "id": "412a67a6",
   "metadata": {},
   "outputs": [],
   "source": [
    "def apply_bit_criteria(report, most_or_least):\n",
    "    \"\"\"Apply the bit criteria to the report using the most or least common bit values.\"\"\"\n",
    "    \n",
    "    assert most_or_least in ('most', 'least')\n",
    "    \n",
    "    # Check that each number in the report has same number of bits.\n",
    "    assert len(set(map(len, report))) == 1\n",
    "    \n",
    "    num_bits = len(report[0])\n",
    "    \n",
    "    for j in range(num_bits):\n",
    "        assert len(report) > 0   \n",
    "        bits = [report[i][j] for i in range(len(report))]\n",
    "        if most_or_least == 'most':\n",
    "            if bits.count('0') == bits.count('1'):\n",
    "                keep = '1'\n",
    "            else:\n",
    "                keep = max(set(bits), key=bits.count)  # most common bit\n",
    "        else:\n",
    "            if bits.count('0') == bits.count('1'):\n",
    "                keep = '0'\n",
    "            else:\n",
    "                keep = min(set(bits), key=bits.count)  # least common bit\n",
    "            \n",
    "        report = list(filter(lambda x: x[j] == keep, report))\n",
    "\n",
    "        # Stop if only one number left.  Convert from binary to decimal.\n",
    "        if len(report) == 1:\n",
    "            rating = int(report[0], base=2)\n",
    "            return rating"
   ]
  },
  {
   "cell_type": "code",
   "execution_count": 7,
   "id": "fb12e614",
   "metadata": {},
   "outputs": [],
   "source": [
    "def calculate_ratings(report):\n",
    "    \"\"\"Calculate the oxygen generator and CO2 scrubber ratings.\"\"\"\n",
    "\n",
    "    oxygen_generator_rating = apply_bit_criteria(report, 'most')\n",
    "    CO2_scrubber_rating = apply_bit_criteria(report, 'least')\n",
    "    life_support_rating = oxygen_generator_rating * CO2_scrubber_rating\n",
    "    \n",
    "    print(f'Oxygen generator rating = {oxygen_generator_rating}')\n",
    "    print(f'CO2 scrubber rating = {CO2_scrubber_rating}')\n",
    "    print(f'Life support rating = {life_support_rating}')"
   ]
  },
  {
   "cell_type": "markdown",
   "id": "c1565987",
   "metadata": {},
   "source": [
    "Test the solution with the example report."
   ]
  },
  {
   "cell_type": "code",
   "execution_count": 8,
   "id": "17e0950c",
   "metadata": {},
   "outputs": [
    {
     "name": "stdout",
     "output_type": "stream",
     "text": [
      "Oxygen generator rating = 23\n",
      "CO2 scrubber rating = 10\n",
      "Life support rating = 230\n"
     ]
    }
   ],
   "source": [
    "calculate_ratings(example_report)"
   ]
  },
  {
   "cell_type": "markdown",
   "id": "2ea7dce4",
   "metadata": {},
   "source": [
    "Now repeat with the input report."
   ]
  },
  {
   "cell_type": "code",
   "execution_count": 9,
   "id": "16aaf7b6",
   "metadata": {},
   "outputs": [
    {
     "name": "stdout",
     "output_type": "stream",
     "text": [
      "Oxygen generator rating = 1639\n",
      "CO2 scrubber rating = 2692\n",
      "Life support rating = 4412188\n"
     ]
    }
   ],
   "source": [
    "calculate_ratings(input_report)"
   ]
  }
 ],
 "metadata": {
  "kernelspec": {
   "display_name": "Python 3",
   "language": "python",
   "name": "python3"
  },
  "language_info": {
   "codemirror_mode": {
    "name": "ipython",
    "version": 3
   },
   "file_extension": ".py",
   "mimetype": "text/x-python",
   "name": "python",
   "nbconvert_exporter": "python",
   "pygments_lexer": "ipython3",
   "version": "3.6.8"
  }
 },
 "nbformat": 4,
 "nbformat_minor": 5
}
